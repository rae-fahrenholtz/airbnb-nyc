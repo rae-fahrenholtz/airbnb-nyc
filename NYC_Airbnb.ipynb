{
  "nbformat": 4,
  "nbformat_minor": 0,
  "metadata": {
    "colab": {
      "name": "NYC_Airbnb.ipynb",
      "provenance": [],
      "collapsed_sections": [],
      "authorship_tag": "ABX9TyNsSviCw9P5wGnO2Z8abZIj",
      "include_colab_link": true
    },
    "kernelspec": {
      "name": "python3",
      "display_name": "Python 3"
    },
    "language_info": {
      "name": "python"
    }
  },
  "cells": [
    {
      "cell_type": "markdown",
      "metadata": {
        "id": "view-in-github",
        "colab_type": "text"
      },
      "source": [
        "<a href=\"https://colab.research.google.com/github/rae-fahrenholtz/nyc-airbnb/blob/main/NYC_Airbnb.ipynb\" target=\"_parent\"><img src=\"https://colab.research.google.com/assets/colab-badge.svg\" alt=\"Open In Colab\"/></a>"
      ]
    },
    {
      "cell_type": "markdown",
      "source": [
        "# Introduction"
      ],
      "metadata": {
        "id": "APo1UVX47Q7L"
      }
    },
    {
      "cell_type": "markdown",
      "source": [
        "## Overview"
      ],
      "metadata": {
        "id": "K9I9ev4o8ufN"
      }
    },
    {
      "cell_type": "markdown",
      "source": [
        "For this analysis, I will be using Airbnb prices in New York City in 2019. Initially, this data set comes from a public API through Airbnb. However, for this study, I will be using a clean data set from Kaggle, found at www.kaggle.com/dgomonov/new-york-city-airbnb-open-data. \n",
        "\n",
        "Some areas of interest in this data set include prices, room type, and neighborhood groups. My goal is that with this information, I will be able to help potential travelers make quick rental decisions given their budget and need for proximity to downtown. "
      ],
      "metadata": {
        "id": "W-eekAE17SzZ"
      }
    },
    {
      "cell_type": "markdown",
      "source": [
        "## Research Questions"
      ],
      "metadata": {
        "id": "hYVcsocr7VHA"
      }
    },
    {
      "cell_type": "markdown",
      "source": [
        "For Airbnb rentals in 2019 in New York City: \n",
        "\n",
        "1. Is the average rental price significantly different for different room types?\n",
        "2. Is the average rental price significantly different in different neighborhoods?\n",
        "3. Is the average rental price for different neighborhoods and room types combinations significantly different?\n"
      ],
      "metadata": {
        "id": "iI3PLPap7ZQU"
      }
    },
    {
      "cell_type": "markdown",
      "source": [
        "## Research Design"
      ],
      "metadata": {
        "id": "imtvxAul7eH8"
      }
    },
    {
      "cell_type": "markdown",
      "source": [
        "I will test these hypotheses with parametric tests, including t-tests and F-tests, and non-parametric tests, including the median test and Kruskal-Wallis one-way analysis of variance. In addition, I will include tests to check for violations of test assumptions for the parametric tests. \n",
        "\n",
        "Intuitively, we would expect different room types to have different rental prices, but we will test this statistically. We would also expect other neighborhoods to have different rental prices -- staying in the heart of the big apple will likely come at a premium!\n",
        "\n",
        "The final hypothesis could be helpful for potential travelers planning on visiting NYC. Given that a traveler has flexible plans on where they would like to stay within NYC and what kind of room they would like, we could save the traveler time in booking a reservation by informing them what combinations of neighborhood and room type are statistically similar.\n"
      ],
      "metadata": {
        "id": "c90jjU467hOD"
      }
    },
    {
      "cell_type": "markdown",
      "source": [
        "# Analysis"
      ],
      "metadata": {
        "id": "m-5mdhq28zSK"
      }
    },
    {
      "cell_type": "markdown",
      "source": [
        "## EDA"
      ],
      "metadata": {
        "id": "LdmnZMFe0SCL"
      }
    },
    {
      "cell_type": "code",
      "metadata": {
        "id": "jZf92hQphUok",
        "colab": {
          "base_uri": "https://localhost:8080/"
        },
        "outputId": "94612381-fd7a-484b-926f-d40a2b311afe"
      },
      "source": [
        "#general\n",
        "import pandas as pd\n",
        "import numpy as np\n",
        "\n",
        "#plot\n",
        "import matplotlib.pyplot as plt\n",
        "import seaborn as sns \n",
        "\n",
        "#stats\n",
        "from scipy import stats\n",
        "import math\n",
        "import statsmodels.api as sm\n",
        "from statsmodels.stats.multicomp import pairwise_tukeyhsd\n",
        "from itertools import combinations\n",
        "pd.options.mode.chained_assignment = None  #default='warn'"
      ],
      "execution_count": null,
      "outputs": [
        {
          "output_type": "stream",
          "name": "stderr",
          "text": [
            "/usr/local/lib/python3.7/dist-packages/statsmodels/tools/_testing.py:19: FutureWarning: pandas.util.testing is deprecated. Use the functions in the public API at pandas.testing instead.\n",
            "  import pandas.util.testing as tm\n"
          ]
        }
      ]
    },
    {
      "cell_type": "markdown",
      "source": [
        "### Load Data"
      ],
      "metadata": {
        "id": "TIlGzRqoTMCz"
      }
    },
    {
      "cell_type": "markdown",
      "source": [
        "To load data from the Kaggle API, you will need a `kaggle.json` file that includes your API credentials. \n",
        "\n",
        "For an example `kaggle.json` file, see `ex_kaggle.json` in the [github repo](https://github.com/rae-fahrenholtz/nyc-airbnb)\n",
        "\n",
        "> To find your `kaggle.json` file, go to your user profile's 'Account' tab and select 'Create API Token'. This will trigger the download of kaggle.json, a file containing your API credentials."
      ],
      "metadata": {
        "id": "xXxH9OSi-9Zi"
      }
    },
    {
      "cell_type": "code",
      "source": [
        "from google.colab import files\n",
        "files.upload()  #this will prompt you to upload the kaggle.json"
      ],
      "metadata": {
        "id": "yoIR_iy1TQsX",
        "colab": {
          "resources": {
            "http://localhost:8080/nbextensions/google.colab/files.js": {
              "data": "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",
              "ok": true,
              "headers": [
                [
                  "content-type",
                  "application/javascript"
                ]
              ],
              "status": 200,
              "status_text": ""
            }
          },
          "base_uri": "https://localhost:8080/",
          "height": 91
        },
        "outputId": "f61308ee-0dcc-4183-dec0-161064f4378a"
      },
      "execution_count": null,
      "outputs": [
        {
          "output_type": "display_data",
          "data": {
            "text/plain": [
              "<IPython.core.display.HTML object>"
            ],
            "text/html": [
              "\n",
              "     <input type=\"file\" id=\"files-63e1a98a-568c-4510-837c-7fb0544f0892\" name=\"files[]\" multiple disabled\n",
              "        style=\"border:none\" />\n",
              "     <output id=\"result-63e1a98a-568c-4510-837c-7fb0544f0892\">\n",
              "      Upload widget is only available when the cell has been executed in the\n",
              "      current browser session. Please rerun this cell to enable.\n",
              "      </output>\n",
              "      <script src=\"/nbextensions/google.colab/files.js\"></script> "
            ]
          },
          "metadata": {}
        },
        {
          "output_type": "stream",
          "name": "stdout",
          "text": [
            "Saving kaggle.json to kaggle.json\n"
          ]
        },
        {
          "output_type": "execute_result",
          "data": {
            "text/plain": [
              "{'kaggle.json': b'{\"username\":\"raefahrenholtz\",\"key\":\"759a14494c6f1568ca61e840b8c48259\"}'}"
            ]
          },
          "metadata": {},
          "execution_count": 3
        }
      ]
    },
    {
      "cell_type": "code",
      "metadata": {
        "id": "5EI1itpUiM7c"
      },
      "source": [
        "#upload data from Kaggle API into colab\n",
        "!pip install -q kaggle #-q flag; quiet, less output\n",
        "!mkdir -p ~/.kaggle #-p flag; no error if existing\n",
        "!cp kaggle.json ~/.kaggle/\n",
        "!chmod 600 ~/.kaggle/kaggle.json #set permission"
      ],
      "execution_count": null,
      "outputs": []
    },
    {
      "cell_type": "code",
      "metadata": {
        "colab": {
          "base_uri": "https://localhost:8080/"
        },
        "id": "WQDmbap5ilSr",
        "outputId": "d377fcfb-81a0-4fc6-d44c-4877f263b461"
      },
      "source": [
        "#download data from Kaggle\n",
        "!kaggle datasets download dgomonov/new-york-city-airbnb-open-data\n",
        "!unzip new-york-city-airbnb-open-data.zip #unzip data"
      ],
      "execution_count": null,
      "outputs": [
        {
          "output_type": "stream",
          "name": "stdout",
          "text": [
            "Downloading new-york-city-airbnb-open-data.zip to /content\n",
            "\r  0% 0.00/2.44M [00:00<?, ?B/s]\n",
            "\r100% 2.44M/2.44M [00:00<00:00, 180MB/s]\n",
            "Archive:  new-york-city-airbnb-open-data.zip\n",
            "  inflating: AB_NYC_2019.csv         \n",
            "  inflating: New_York_City_.png      \n"
          ]
        }
      ]
    },
    {
      "cell_type": "code",
      "metadata": {
        "id": "q_xs5OnKiruW"
      },
      "source": [
        "#import csv as pandas dataframe\n",
        "df = pd.read_csv('AB_NYC_2019.csv')"
      ],
      "execution_count": null,
      "outputs": []
    },
    {
      "cell_type": "markdown",
      "source": [
        "### Initial Look at the Data"
      ],
      "metadata": {
        "id": "zjk71oABaHJi"
      }
    },
    {
      "cell_type": "code",
      "metadata": {
        "id": "sbCn_-hVjGxs",
        "colab": {
          "base_uri": "https://localhost:8080/"
        },
        "outputId": "cc156e02-81ee-42e8-aec6-1cd089fc9e4d"
      },
      "source": [
        "df.info()"
      ],
      "execution_count": null,
      "outputs": [
        {
          "output_type": "stream",
          "name": "stdout",
          "text": [
            "<class 'pandas.core.frame.DataFrame'>\n",
            "RangeIndex: 48895 entries, 0 to 48894\n",
            "Data columns (total 16 columns):\n",
            " #   Column                          Non-Null Count  Dtype  \n",
            "---  ------                          --------------  -----  \n",
            " 0   id                              48895 non-null  int64  \n",
            " 1   name                            48879 non-null  object \n",
            " 2   host_id                         48895 non-null  int64  \n",
            " 3   host_name                       48874 non-null  object \n",
            " 4   neighbourhood_group             48895 non-null  object \n",
            " 5   neighbourhood                   48895 non-null  object \n",
            " 6   latitude                        48895 non-null  float64\n",
            " 7   longitude                       48895 non-null  float64\n",
            " 8   room_type                       48895 non-null  object \n",
            " 9   price                           48895 non-null  int64  \n",
            " 10  minimum_nights                  48895 non-null  int64  \n",
            " 11  number_of_reviews               48895 non-null  int64  \n",
            " 12  last_review                     38843 non-null  object \n",
            " 13  reviews_per_month               38843 non-null  float64\n",
            " 14  calculated_host_listings_count  48895 non-null  int64  \n",
            " 15  availability_365                48895 non-null  int64  \n",
            "dtypes: float64(3), int64(7), object(6)\n",
            "memory usage: 6.0+ MB\n"
          ]
        }
      ]
    },
    {
      "cell_type": "markdown",
      "metadata": {
        "id": "eUBiR7qjjVbt"
      },
      "source": [
        "For this analysis, we are interested in `price` in relation to `room_type` and `neighbourhood_group`."
      ]
    },
    {
      "cell_type": "code",
      "source": [
        "pd.concat([df['price'], df['room_type'], df['neighbourhood_group']], axis=1).head(7)"
      ],
      "metadata": {
        "colab": {
          "base_uri": "https://localhost:8080/",
          "height": 269
        },
        "id": "Ru88fyz_W0L0",
        "outputId": "af0aac21-d1da-42e2-de93-e8d11e99dc85"
      },
      "execution_count": null,
      "outputs": [
        {
          "output_type": "execute_result",
          "data": {
            "text/plain": [
              "   price        room_type neighbourhood_group\n",
              "0    149     Private room            Brooklyn\n",
              "1    225  Entire home/apt           Manhattan\n",
              "2    150     Private room           Manhattan\n",
              "3     89  Entire home/apt            Brooklyn\n",
              "4     80  Entire home/apt           Manhattan\n",
              "5    200  Entire home/apt           Manhattan\n",
              "6     60     Private room            Brooklyn"
            ],
            "text/html": [
              "\n",
              "  <div id=\"df-065ac0f8-a274-491f-ba8f-2e25f8558249\">\n",
              "    <div class=\"colab-df-container\">\n",
              "      <div>\n",
              "<style scoped>\n",
              "    .dataframe tbody tr th:only-of-type {\n",
              "        vertical-align: middle;\n",
              "    }\n",
              "\n",
              "    .dataframe tbody tr th {\n",
              "        vertical-align: top;\n",
              "    }\n",
              "\n",
              "    .dataframe thead th {\n",
              "        text-align: right;\n",
              "    }\n",
              "</style>\n",
              "<table border=\"1\" class=\"dataframe\">\n",
              "  <thead>\n",
              "    <tr style=\"text-align: right;\">\n",
              "      <th></th>\n",
              "      <th>price</th>\n",
              "      <th>room_type</th>\n",
              "      <th>neighbourhood_group</th>\n",
              "    </tr>\n",
              "  </thead>\n",
              "  <tbody>\n",
              "    <tr>\n",
              "      <th>0</th>\n",
              "      <td>149</td>\n",
              "      <td>Private room</td>\n",
              "      <td>Brooklyn</td>\n",
              "    </tr>\n",
              "    <tr>\n",
              "      <th>1</th>\n",
              "      <td>225</td>\n",
              "      <td>Entire home/apt</td>\n",
              "      <td>Manhattan</td>\n",
              "    </tr>\n",
              "    <tr>\n",
              "      <th>2</th>\n",
              "      <td>150</td>\n",
              "      <td>Private room</td>\n",
              "      <td>Manhattan</td>\n",
              "    </tr>\n",
              "    <tr>\n",
              "      <th>3</th>\n",
              "      <td>89</td>\n",
              "      <td>Entire home/apt</td>\n",
              "      <td>Brooklyn</td>\n",
              "    </tr>\n",
              "    <tr>\n",
              "      <th>4</th>\n",
              "      <td>80</td>\n",
              "      <td>Entire home/apt</td>\n",
              "      <td>Manhattan</td>\n",
              "    </tr>\n",
              "    <tr>\n",
              "      <th>5</th>\n",
              "      <td>200</td>\n",
              "      <td>Entire home/apt</td>\n",
              "      <td>Manhattan</td>\n",
              "    </tr>\n",
              "    <tr>\n",
              "      <th>6</th>\n",
              "      <td>60</td>\n",
              "      <td>Private room</td>\n",
              "      <td>Brooklyn</td>\n",
              "    </tr>\n",
              "  </tbody>\n",
              "</table>\n",
              "</div>\n",
              "      <button class=\"colab-df-convert\" onclick=\"convertToInteractive('df-065ac0f8-a274-491f-ba8f-2e25f8558249')\"\n",
              "              title=\"Convert this dataframe to an interactive table.\"\n",
              "              style=\"display:none;\">\n",
              "        \n",
              "  <svg xmlns=\"http://www.w3.org/2000/svg\" height=\"24px\"viewBox=\"0 0 24 24\"\n",
              "       width=\"24px\">\n",
              "    <path d=\"M0 0h24v24H0V0z\" fill=\"none\"/>\n",
              "    <path d=\"M18.56 5.44l.94 2.06.94-2.06 2.06-.94-2.06-.94-.94-2.06-.94 2.06-2.06.94zm-11 1L8.5 8.5l.94-2.06 2.06-.94-2.06-.94L8.5 2.5l-.94 2.06-2.06.94zm10 10l.94 2.06.94-2.06 2.06-.94-2.06-.94-.94-2.06-.94 2.06-2.06.94z\"/><path d=\"M17.41 7.96l-1.37-1.37c-.4-.4-.92-.59-1.43-.59-.52 0-1.04.2-1.43.59L10.3 9.45l-7.72 7.72c-.78.78-.78 2.05 0 2.83L4 21.41c.39.39.9.59 1.41.59.51 0 1.02-.2 1.41-.59l7.78-7.78 2.81-2.81c.8-.78.8-2.07 0-2.86zM5.41 20L4 18.59l7.72-7.72 1.47 1.35L5.41 20z\"/>\n",
              "  </svg>\n",
              "      </button>\n",
              "      \n",
              "  <style>\n",
              "    .colab-df-container {\n",
              "      display:flex;\n",
              "      flex-wrap:wrap;\n",
              "      gap: 12px;\n",
              "    }\n",
              "\n",
              "    .colab-df-convert {\n",
              "      background-color: #E8F0FE;\n",
              "      border: none;\n",
              "      border-radius: 50%;\n",
              "      cursor: pointer;\n",
              "      display: none;\n",
              "      fill: #1967D2;\n",
              "      height: 32px;\n",
              "      padding: 0 0 0 0;\n",
              "      width: 32px;\n",
              "    }\n",
              "\n",
              "    .colab-df-convert:hover {\n",
              "      background-color: #E2EBFA;\n",
              "      box-shadow: 0px 1px 2px rgba(60, 64, 67, 0.3), 0px 1px 3px 1px rgba(60, 64, 67, 0.15);\n",
              "      fill: #174EA6;\n",
              "    }\n",
              "\n",
              "    [theme=dark] .colab-df-convert {\n",
              "      background-color: #3B4455;\n",
              "      fill: #D2E3FC;\n",
              "    }\n",
              "\n",
              "    [theme=dark] .colab-df-convert:hover {\n",
              "      background-color: #434B5C;\n",
              "      box-shadow: 0px 1px 3px 1px rgba(0, 0, 0, 0.15);\n",
              "      filter: drop-shadow(0px 1px 2px rgba(0, 0, 0, 0.3));\n",
              "      fill: #FFFFFF;\n",
              "    }\n",
              "  </style>\n",
              "\n",
              "      <script>\n",
              "        const buttonEl =\n",
              "          document.querySelector('#df-065ac0f8-a274-491f-ba8f-2e25f8558249 button.colab-df-convert');\n",
              "        buttonEl.style.display =\n",
              "          google.colab.kernel.accessAllowed ? 'block' : 'none';\n",
              "\n",
              "        async function convertToInteractive(key) {\n",
              "          const element = document.querySelector('#df-065ac0f8-a274-491f-ba8f-2e25f8558249');\n",
              "          const dataTable =\n",
              "            await google.colab.kernel.invokeFunction('convertToInteractive',\n",
              "                                                     [key], {});\n",
              "          if (!dataTable) return;\n",
              "\n",
              "          const docLinkHtml = 'Like what you see? Visit the ' +\n",
              "            '<a target=\"_blank\" href=https://colab.research.google.com/notebooks/data_table.ipynb>data table notebook</a>'\n",
              "            + ' to learn more about interactive tables.';\n",
              "          element.innerHTML = '';\n",
              "          dataTable['output_type'] = 'display_data';\n",
              "          await google.colab.output.renderOutput(dataTable, element);\n",
              "          const docLink = document.createElement('div');\n",
              "          docLink.innerHTML = docLinkHtml;\n",
              "          element.appendChild(docLink);\n",
              "        }\n",
              "      </script>\n",
              "    </div>\n",
              "  </div>\n",
              "  "
            ]
          },
          "metadata": {},
          "execution_count": 8
        }
      ]
    },
    {
      "cell_type": "code",
      "metadata": {
        "id": "_g__E15Xi_yT",
        "colab": {
          "base_uri": "https://localhost:8080/"
        },
        "outputId": "80c2dea9-b113-48b4-9023-1be1d0c093da"
      },
      "source": [
        "#checking size of data set\n",
        "count = df['price'].count()\n",
        "print(\"Total Entries: {}\".format(count))"
      ],
      "execution_count": null,
      "outputs": [
        {
          "output_type": "stream",
          "name": "stdout",
          "text": [
            "Total Entries: 48895\n"
          ]
        }
      ]
    },
    {
      "cell_type": "code",
      "source": [
        "print('price:')\n",
        "round(df['price'].describe(),2)"
      ],
      "metadata": {
        "colab": {
          "base_uri": "https://localhost:8080/"
        },
        "id": "qFCrWEVBWAKP",
        "outputId": "bb8c06df-5254-4c8c-b58f-05b2513ad9a5"
      },
      "execution_count": null,
      "outputs": [
        {
          "output_type": "stream",
          "name": "stdout",
          "text": [
            "price:\n"
          ]
        },
        {
          "output_type": "execute_result",
          "data": {
            "text/plain": [
              "count    48895.00\n",
              "mean       152.72\n",
              "std        240.15\n",
              "min          0.00\n",
              "25%         69.00\n",
              "50%        106.00\n",
              "75%        175.00\n",
              "max      10000.00\n",
              "Name: price, dtype: float64"
            ]
          },
          "metadata": {},
          "execution_count": 10
        }
      ]
    },
    {
      "cell_type": "code",
      "source": [
        "plt.hist(df['price'], bins=100)\n",
        "plt.xlabel('Price')\n",
        "plt.ylabel('Count')\n",
        "plt.title('Histogram: Price')\n",
        "plt.show()"
      ],
      "metadata": {
        "colab": {
          "base_uri": "https://localhost:8080/",
          "height": 295
        },
        "id": "3AQ4ANJsZdpT",
        "outputId": "be29b256-49bc-489e-e788-28e2c0b33d4a"
      },
      "execution_count": null,
      "outputs": [
        {
          "output_type": "display_data",
          "data": {
            "text/plain": [
              "<Figure size 432x288 with 1 Axes>"
            ],
            "image/png": "[encoded data removed]"
          },
          "metadata": {
            "needs_background": "light"
          }
        }
      ]
    },
    {
      "cell_type": "markdown",
      "source": [
        "- Presense of high outliers, and right-skew distribution"
      ],
      "metadata": {
        "id": "rlxsT6OuaVjG"
      }
    },
    {
      "cell_type": "code",
      "source": [
        "print('room_types:')\n",
        "print(df['room_type'].unique(), '\\n')\n",
        "print('counts:')\n",
        "print(df.groupby('room_type').size())"
      ],
      "metadata": {
        "colab": {
          "base_uri": "https://localhost:8080/"
        },
        "id": "I2I3GHKuWZX_",
        "outputId": "079bd253-1b39-4d7f-b386-03f4d93115e6"
      },
      "execution_count": null,
      "outputs": [
        {
          "output_type": "stream",
          "name": "stdout",
          "text": [
            "room_types:\n",
            "['Private room' 'Entire home/apt' 'Shared room'] \n",
            "\n",
            "counts:\n",
            "room_type\n",
            "Entire home/apt    25409\n",
            "Private room       22326\n",
            "Shared room         1160\n",
            "dtype: int64\n"
          ]
        }
      ]
    },
    {
      "cell_type": "code",
      "source": [
        "sns.histplot(df['room_type'])\n",
        "plt.title('Sample Size for Each Type of Room')\n",
        "plt.xlabel('Room Type')\n",
        "plt.ylabel(\"Count\")\n",
        "plt.show()"
      ],
      "metadata": {
        "colab": {
          "base_uri": "https://localhost:8080/",
          "height": 295
        },
        "id": "DWS2XioGa7sx",
        "outputId": "9fcc1d9c-7431-4867-9c15-bf9b02325b82"
      },
      "execution_count": null,
      "outputs": [
        {
          "output_type": "display_data",
          "data": {
            "text/plain": [
              "<Figure size 432x288 with 1 Axes>"
            ],
            "image/png": "[encoded data removed]"
          },
          "metadata": {
            "needs_background": "light"
          }
        }
      ]
    },
    {
      "cell_type": "code",
      "source": [
        "print('neighbourhood_groups:')\n",
        "print(df['neighbourhood_group'].unique(),'\\n')\n",
        "print('counts:')\n",
        "print(df.groupby('neighbourhood_group').size())"
      ],
      "metadata": {
        "colab": {
          "base_uri": "https://localhost:8080/"
        },
        "id": "TPBeHS8_Y253",
        "outputId": "edf73d14-3dd6-4822-ff0c-9c2977373e49"
      },
      "execution_count": null,
      "outputs": [
        {
          "output_type": "stream",
          "name": "stdout",
          "text": [
            "neighbourhood_groups:\n",
            "['Brooklyn' 'Manhattan' 'Queens' 'Staten Island' 'Bronx'] \n",
            "\n",
            "counts:\n",
            "neighbourhood_group\n",
            "Bronx             1091\n",
            "Brooklyn         20104\n",
            "Manhattan        21661\n",
            "Queens            5666\n",
            "Staten Island      373\n",
            "dtype: int64\n"
          ]
        }
      ]
    },
    {
      "cell_type": "code",
      "source": [
        "sns.histplot(df['neighbourhood_group'])\n",
        "plt.title('Sample Size for Each Neighbourhood')\n",
        "plt.xlabel('Neighbourhood')\n",
        "plt.ylabel(\"Count\")\n",
        "plt.show()"
      ],
      "metadata": {
        "colab": {
          "base_uri": "https://localhost:8080/",
          "height": 295
        },
        "id": "wFLe9O2RbU_w",
        "outputId": "601aaeda-cbb3-4e43-d6fb-6482556c5d89"
      },
      "execution_count": null,
      "outputs": [
        {
          "output_type": "display_data",
          "data": {
            "text/plain": [
              "<Figure size 432x288 with 1 Axes>"
            ],
            "image/png": "[encoded data removed]"
          },
          "metadata": {
            "needs_background": "light"
          }
        }
      ]
    },
    {
      "cell_type": "markdown",
      "source": [
        "- Unbalanced groups for `room_type` and `neighbourhood_groups`"
      ],
      "metadata": {
        "id": "ccMPH-iiaruP"
      }
    },
    {
      "cell_type": "code",
      "metadata": {
        "id": "GLGjGYNOjuQ5",
        "colab": {
          "base_uri": "https://localhost:8080/"
        },
        "outputId": "a5e64e42-0316-433e-c590-713f6664f459"
      },
      "source": [
        "#Check for missing values\n",
        "cols = ['price','room_type','neighbourhood_group']\n",
        "\n",
        "for col in cols:\n",
        "  null_count = df[col].isnull().sum()\n",
        "  print(\"Number of Missing Values for {}: {}\".format(col, null_count))"
      ],
      "execution_count": null,
      "outputs": [
        {
          "output_type": "stream",
          "name": "stdout",
          "text": [
            "Number of Missing Values for price: 0\n",
            "Number of Missing Values for room_type: 0\n",
            "Number of Missing Values for neighbourhood_group: 0\n"
          ]
        }
      ]
    },
    {
      "cell_type": "markdown",
      "source": [
        "- No missing values for variables of interest"
      ],
      "metadata": {
        "id": "7NPTXdZzaSwE"
      }
    },
    {
      "cell_type": "markdown",
      "source": [
        "###Data Preparation"
      ],
      "metadata": {
        "id": "D1jtVus4iCzM"
      }
    },
    {
      "cell_type": "markdown",
      "source": [
        "We will need data that is approximately normally distributed for our parametric tests. Let's look at the variable `price` for normality."
      ],
      "metadata": {
        "id": "dKjnVfRTj6hQ"
      }
    },
    {
      "cell_type": "code",
      "source": [
        "plt.figure(figsize=(13,3))\n",
        "plt.hist(df['price'], bins=100)\n",
        "plt.xlabel('Price')\n",
        "plt.ylabel('Count')\n",
        "plt.title('Histogram: Price')\n",
        "plt.show()"
      ],
      "metadata": {
        "colab": {
          "base_uri": "https://localhost:8080/",
          "height": 241
        },
        "id": "uXyrb-pjDoYx",
        "outputId": "dda862d3-cc91-471b-cf07-aa9c5ccebcf7"
      },
      "execution_count": null,
      "outputs": [
        {
          "output_type": "display_data",
          "data": {
            "text/plain": [
              "<Figure size 936x216 with 1 Axes>"
            ],
            "image/png": "[encoded data removed]"
          },
          "metadata": {
            "needs_background": "light"
          }
        }
      ]
    },
    {
      "cell_type": "code",
      "source": [
        "plt.figure(figsize=(13,3))\n",
        "sns.boxplot(data=df, x='price')\n",
        "plt.title('Boxplot: Price')\n",
        "plt.show()"
      ],
      "metadata": {
        "colab": {
          "base_uri": "https://localhost:8080/",
          "height": 241
        },
        "id": "H2kzQEAbEjX_",
        "outputId": "4f4bf5a8-a7b5-41b1-c642-af8ae05e9557"
      },
      "execution_count": null,
      "outputs": [
        {
          "output_type": "display_data",
          "data": {
            "text/plain": [
              "<Figure size 936x216 with 1 Axes>"
            ],
            "image/png": "[encoded data removed]"
          },
          "metadata": {
            "needs_background": "light"
          }
        }
      ]
    },
    {
      "cell_type": "code",
      "source": [
        "print('Descriptive Statistics for Price:', '\\n')\n",
        "print('mean: {:.2f}'.format(stats.describe(df['price'])[2]))\n",
        "print('variance: {:.2f}'.format(stats.describe(df['price'])[3]))\n",
        "print('skewness: {:.2f}'.format(stats.describe(df['price'])[4]))\n",
        "print('kurtosis: {:.2f}'.format(stats.describe(df['price'])[5]))"
      ],
      "metadata": {
        "colab": {
          "base_uri": "https://localhost:8080/"
        },
        "id": "lALejJdfECVx",
        "outputId": "9f4ff71c-808d-44c9-9a89-03e5a91571bd"
      },
      "execution_count": null,
      "outputs": [
        {
          "output_type": "stream",
          "name": "stdout",
          "text": [
            "Descriptive Statistics for Price: \n",
            "\n",
            "mean: 152.72\n",
            "variance: 57674.03\n",
            "skewness: 19.12\n",
            "kurtosis: 585.61\n"
          ]
        }
      ]
    },
    {
      "cell_type": "markdown",
      "metadata": {
        "id": "vE1KyEf0p4xF"
      },
      "source": [
        "- Visually this is not normally distributed \n",
        "- Presence of large outliers\n",
        "- Large skew and kurtosis also show lack of normality"
      ]
    },
    {
      "cell_type": "markdown",
      "metadata": {
        "id": "y2YkVzleqcgi"
      },
      "source": [
        "Consider a log transformation of price. \n",
        "\n",
        "First, we remove entries where `price == 0`. The domain for the log function is positive real numbers (does not include zero). Realistically, we are only interested in rental prices that are not free."
      ]
    },
    {
      "cell_type": "code",
      "metadata": {
        "id": "FvqPxvYXqZzD",
        "colab": {
          "base_uri": "https://localhost:8080/"
        },
        "outputId": "300b6343-22c2-4357-d3b3-5ef2cf845a08"
      },
      "source": [
        "#entries where price==0 \n",
        "zeros = df[df['price'] == 0]    \n",
        "#check to see how many entires were removed\n",
        "nzero = zeros['price'].count()\n",
        "print(\"{} entries will be removed, where price is zero\".format(nzero))\n",
        "print(\"{:.2f}% of total entries will be removed, where the price is zero\".format\n",
        "      ((nzero/df.shape[0])*100)\n",
        "      )"
      ],
      "execution_count": null,
      "outputs": [
        {
          "output_type": "stream",
          "name": "stdout",
          "text": [
            "11 entries will be removed, where price is zero\n",
            "0.02% of total entries will be removed, where the price is zero\n"
          ]
        }
      ]
    },
    {
      "cell_type": "code",
      "source": [
        "#remove entries where price==0\n",
        "df_clean = df[df['price'] !=0]\n",
        "\n",
        "#calculate logorithm on 'price'\n",
        "df_clean.loc[:,'log_price'] = np.log10(df_clean.loc[:,'price'])"
      ],
      "metadata": {
        "id": "2-H5ccfNGFcy"
      },
      "execution_count": null,
      "outputs": []
    },
    {
      "cell_type": "code",
      "source": [
        "plt.figure(figsize=(8,3))\n",
        "sns.histplot(data=df_clean, x='log_price', kde=True, bins=30)\n",
        "plt.title('Histogram Log Price')\n",
        "plt.show()"
      ],
      "metadata": {
        "colab": {
          "base_uri": "https://localhost:8080/",
          "height": 242
        },
        "id": "PQWH0W68GuqS",
        "outputId": "59323ed2-dc86-4a3f-c26f-676951ff5b49"
      },
      "execution_count": null,
      "outputs": [
        {
          "output_type": "display_data",
          "data": {
            "text/plain": [
              "<Figure size 576x216 with 1 Axes>"
            ],
            "image/png": "[encoded data removed]"
          },
          "metadata": {
            "needs_background": "light"
          }
        }
      ]
    },
    {
      "cell_type": "code",
      "source": [
        "print('Descriptive Statistics for Log Price:', '\\n')\n",
        "print('mean: {:.2f}'.format(stats.describe(df_clean['log_price'])[2]))\n",
        "print('variance: {:.3f}'.format(stats.describe(df_clean['log_price'])[3]))\n",
        "print('skewness: {:.2f}'.format(stats.describe(df_clean['log_price'])[4]))\n",
        "print('kurtosis: {:.2f}'.format(stats.describe(df_clean['log_price'])[5]))"
      ],
      "metadata": {
        "colab": {
          "base_uri": "https://localhost:8080/"
        },
        "id": "6lnHEs166c8l",
        "outputId": "27b6db67-b4d6-4986-af1c-3c683594f84e"
      },
      "execution_count": null,
      "outputs": [
        {
          "output_type": "stream",
          "name": "stdout",
          "text": [
            "Descriptive Statistics for Log Price: \n",
            "\n",
            "mean: 2.05\n",
            "variance: 0.092\n",
            "skewness: 0.61\n",
            "kurtosis: 1.30\n"
          ]
        }
      ]
    },
    {
      "cell_type": "markdown",
      "metadata": {
        "id": "VmHjKtPNvGeM"
      },
      "source": [
        "- Visually, the transformed distribution looks much more normal\n",
        "- The suggested rule of thumb that $|Skew| < 3$  and $|Kurtosis| < 8$ are both satisfied"
      ]
    },
    {
      "cell_type": "code",
      "source": [
        "plt.figure(figsize=(10,3))\n",
        "sns.boxplot(data=df_clean, x='log_price', \n",
        "            #changes size of markers outside IQR\n",
        "            flierprops = dict(markerfacecolor = '0.50', markersize = 2))\n",
        "plt.title('Boxplot: Log Price')\n",
        "plt.show()"
      ],
      "metadata": {
        "colab": {
          "base_uri": "https://localhost:8080/",
          "height": 242
        },
        "id": "cKrBAbYoHXVT",
        "outputId": "562d815c-6dab-4b90-b902-84b33b9d8933"
      },
      "execution_count": null,
      "outputs": [
        {
          "output_type": "display_data",
          "data": {
            "text/plain": [
              "<Figure size 720x216 with 1 Axes>"
            ],
            "image/png": "[encoded data removed]"
          },
          "metadata": {
            "needs_background": "light"
          }
        }
      ]
    },
    {
      "cell_type": "markdown",
      "source": [
        "- After transformation, there is a presence of some potential outliers for high rental prices "
      ],
      "metadata": {
        "id": "jX7cUI6x8HIe"
      }
    },
    {
      "cell_type": "code",
      "source": [
        "#define outlier threshold; 4 std above the mean\n",
        "mu = df_clean['log_price'].mean()\n",
        "std = df_clean['log_price'].std()\n",
        "four_std_thres = 4*std + mu"
      ],
      "metadata": {
        "id": "7UNk21pUJKyQ"
      },
      "execution_count": null,
      "outputs": []
    },
    {
      "cell_type": "code",
      "source": [
        "plt.figure(figsize=(8,3))\n",
        "sns.histplot(data=df_clean, x='log_price', bins=40)\n",
        "plt.title('Histogram Log Price, Presence of Outliers')\n",
        "plt.axvline(x=mu, color='purple')\n",
        "plt.axvline(x=four_std_thres, color='blue')\n",
        "plt.legend(labels=['mean', '4 std above mean'])\n",
        "plt.show()"
      ],
      "metadata": {
        "colab": {
          "base_uri": "https://localhost:8080/",
          "height": 242
        },
        "id": "A1y68ddZ8e8w",
        "outputId": "3345ddbd-8349-4fb6-91aa-12e16496c76f"
      },
      "execution_count": null,
      "outputs": [
        {
          "output_type": "display_data",
          "data": {
            "text/plain": [
              "<Figure size 576x216 with 1 Axes>"
            ],
            "image/png": "[encoded data removed]"
          },
          "metadata": {
            "needs_background": "light"
          }
        }
      ]
    },
    {
      "cell_type": "code",
      "source": [
        "#number of entries where log price>=four_std_thres\n",
        "noutlier = df_clean['log_price'][df_clean['log_price'] \n",
        "                                 >= four_std_thres].count()    \n",
        "\n",
        "print(\n",
        "'''{} entries have a log price greater \n",
        "than 4 standard deviations above the mean \\n'''\n",
        ".format(noutlier)\n",
        ")\n",
        "\n",
        "print(\n",
        "'''{:.2f}% of total entries have a log price greater \n",
        "than four standard deviations above the mean '''\n",
        ".format((noutlier/df.shape[0]*100))\n",
        ")"
      ],
      "metadata": {
        "colab": {
          "base_uri": "https://localhost:8080/"
        },
        "id": "7JHqSfdv-SZK",
        "outputId": "6369c07f-5f12-4fc4-d3d4-e15802c786cd"
      },
      "execution_count": null,
      "outputs": [
        {
          "output_type": "stream",
          "name": "stdout",
          "text": [
            "117 entries have a log price greater \n",
            "than 4 standard deviations above the mean \n",
            "\n",
            "0.24% of total entries have a log price greater \n",
            "than four standard deviations above the mean \n"
          ]
        }
      ]
    },
    {
      "cell_type": "markdown",
      "source": [
        "Outliers; To remove or not to remove, that is the question. "
      ],
      "metadata": {
        "id": "nLWZ6qGWdd-i"
      }
    },
    {
      "cell_type": "code",
      "source": [
        "#entries larger than four standard deviations above the mean\n",
        "outliers = df_clean[df_clean['log_price'] >= four_std_thres]\n",
        "\n",
        "print('Number of Outliers per Neighbourhood: \\n')\n",
        "print(outliers.groupby('neighbourhood_group').count()['log_price'], \n",
        "      '\\n \\n' '--------------------- \\n')\n",
        "\n",
        "print('Number of Outliers per Room type: \\n')\n",
        "print(outliers.groupby('room_type').count()['log_price'])"
      ],
      "metadata": {
        "colab": {
          "base_uri": "https://localhost:8080/"
        },
        "id": "ALJOrBVccan-",
        "outputId": "e5d1f10f-c4ef-4ee3-9ac9-004aca3820a5"
      },
      "execution_count": null,
      "outputs": [
        {
          "output_type": "stream",
          "name": "stdout",
          "text": [
            "Number of Outliers per Neighbourhood: \n",
            "\n",
            "neighbourhood_group\n",
            "Bronx             1\n",
            "Brooklyn         25\n",
            "Manhattan        85\n",
            "Queens            5\n",
            "Staten Island     1\n",
            "Name: log_price, dtype: int64 \n",
            " \n",
            "--------------------- \n",
            "\n",
            "Number of Outliers per Room type: \n",
            "\n",
            "room_type\n",
            "Entire home/apt    95\n",
            "Private room       22\n",
            "Name: log_price, dtype: int64\n"
          ]
        }
      ]
    },
    {
      "cell_type": "markdown",
      "source": [
        "I will remove outliers defined as four standard deviations above the mean for the remainder of the analysis. My justification is that: \n",
        "\n",
        "- This removes less than 0.25% of total entries \n",
        "- Our target audience is potential travelers to NYC considering different room types and neighbourhoods. Most outliers are luxury rentals in Manhattan, renting the entire home/apt, which is not the most representative for our target audience."
      ],
      "metadata": {
        "id": "PD_ZOwzDa4WD"
      }
    },
    {
      "cell_type": "code",
      "source": [
        "#df_airbnb has price==0 and outliers 4 std above the mean removed\n",
        "df_airbnb = df_clean[df_clean['log_price'] < four_std_thres]"
      ],
      "metadata": {
        "id": "T2HRQLRmfCWr"
      },
      "execution_count": null,
      "outputs": []
    },
    {
      "cell_type": "code",
      "source": [
        "df_airbnb.shape"
      ],
      "metadata": {
        "colab": {
          "base_uri": "https://localhost:8080/"
        },
        "id": "rcuc89j1fYZb",
        "outputId": "2c670acc-5658-439c-a158-365845efba41"
      },
      "execution_count": null,
      "outputs": [
        {
          "output_type": "execute_result",
          "data": {
            "text/plain": [
              "(48767, 17)"
            ]
          },
          "metadata": {},
          "execution_count": 30
        }
      ]
    },
    {
      "cell_type": "code",
      "source": [
        "plt.figure(figsize=(8,3))\n",
        "sns.histplot(data=df_airbnb, x='log_price', kde=True, bins=30)\n",
        "plt.title('Histogram Log Price, Outliers Removed')\n",
        "plt.show()"
      ],
      "metadata": {
        "id": "90l6uF9FLA1_",
        "colab": {
          "base_uri": "https://localhost:8080/",
          "height": 242
        },
        "outputId": "062ff6fb-29fe-47c2-c8bd-ec58bf649a47"
      },
      "execution_count": null,
      "outputs": [
        {
          "output_type": "display_data",
          "data": {
            "text/plain": [
              "<Figure size 576x216 with 1 Axes>"
            ],
            "image/png": "[encoded data removed]"
          },
          "metadata": {
            "needs_background": "light"
          }
        }
      ]
    },
    {
      "cell_type": "code",
      "source": [
        "plt.figure(figsize=(10,3))\n",
        "sns.boxplot(data=df_airbnb, x='log_price', \n",
        "            #changes size of markers outside IQR\n",
        "            flierprops = dict(markerfacecolor = '0.50', markersize = 2))\n",
        "plt.title('Boxplot: Log Price, Outliers Removed')\n",
        "plt.show()"
      ],
      "metadata": {
        "id": "qV6usHVXLAzX",
        "colab": {
          "base_uri": "https://localhost:8080/",
          "height": 242
        },
        "outputId": "2c3c33ad-d860-4319-f879-611781b1b020"
      },
      "execution_count": null,
      "outputs": [
        {
          "output_type": "display_data",
          "data": {
            "text/plain": [
              "<Figure size 720x216 with 1 Axes>"
            ],
            "image/png": "[encoded data removed]"
          },
          "metadata": {
            "needs_background": "light"
          }
        }
      ]
    },
    {
      "cell_type": "markdown",
      "source": [
        "## Testing"
      ],
      "metadata": {
        "id": "kmeRris-c17H"
      }
    },
    {
      "cell_type": "markdown",
      "source": [
        "### Research Question 1: Comparison of *Room Types*"
      ],
      "metadata": {
        "id": "-r0GTjHGBhq9"
      }
    },
    {
      "cell_type": "markdown",
      "source": [
        "#### Introduction"
      ],
      "metadata": {
        "id": "ssGl528Ennk6"
      }
    },
    {
      "cell_type": "markdown",
      "metadata": {
        "id": "P0Z_2RUYmNn3"
      },
      "source": [
        "Research Question:\n",
        "> Is there a statistically significant difference in the average daily rental price for Airbnb rentals in NYC in 2019 for a private room rentals versus an entire home rental? \n",
        "\n",
        "I will be using the variable `room_type` for A/B testing, where: \n",
        "\n",
        "*   Group A: Private Room \n",
        "*   Group B: Entire home/apt\n",
        "\n",
        "\n",
        "Formally,\n",
        "\n",
        "Null Hypothesis\n",
        "> $H_0: \\mu_A = \\mu_B$\n",
        "\n",
        "Alternative Hypothesis\n",
        "> $H_1: \\mu_A \\neq \\mu_B$\n",
        "\n",
        "\n",
        "I would expect that, on average, rentals for the entire home to be more expensive than rentals for just a private room, but I will formally test this hypothesis using a Student's T-test.\n",
        "\n",
        "Note, I will not consider 'Shared room' rentals because of the relatively smaller sample size."
      ]
    },
    {
      "cell_type": "markdown",
      "source": [
        "#####Initial Look at the Data"
      ],
      "metadata": {
        "id": "be2kIEN1nqUu"
      }
    },
    {
      "cell_type": "code",
      "metadata": {
        "id": "bKLcaMEsyA6Q"
      },
      "source": [
        "#split data set into two groups\n",
        "df_room = df_airbnb[df_airbnb['room_type'] == 'Private room']\n",
        "df_home = df_airbnb[df_airbnb['room_type'] == 'Entire home/apt']"
      ],
      "execution_count": null,
      "outputs": []
    },
    {
      "cell_type": "code",
      "metadata": {
        "id": "mS1QkcL6yCrF",
        "colab": {
          "base_uri": "https://localhost:8080/"
        },
        "outputId": "66299a6e-ff1d-4af5-cf53-36913abc4c04"
      },
      "source": [
        "room_count = df_room['log_price'].count()\n",
        "home_count = df_home['log_price'].count()\n",
        "\n",
        "print(\"Total Entries for Private Room Rental: {}\".format(room_count))\n",
        "print(\"Total Entries for Entire Home Rental: {}\".format(home_count))"
      ],
      "execution_count": null,
      "outputs": [
        {
          "output_type": "stream",
          "name": "stdout",
          "text": [
            "Total Entries for Private Room Rental: 22297\n",
            "Total Entries for Entire Home Rental: 25312\n"
          ]
        }
      ]
    },
    {
      "cell_type": "markdown",
      "source": [
        "- Fairly balanced groups"
      ],
      "metadata": {
        "id": "_1G6Ax6NoUcO"
      }
    },
    {
      "cell_type": "code",
      "source": [
        "#plot hist of log_price for private room and entire home/apt\n",
        "plt.hist(df_room['log_price'], alpha = .5, bins = 25)\n",
        "plt.hist(df_home['log_price'], alpha = .5, bins = 25)\n",
        "plt.title(\"Histogram for Log Price, Private room vs Entire Home\")\n",
        "plt.xlabel(\"Log Price\")\n",
        "plt.ylabel(\"Count\")\n",
        "plt.legend(['Private Room','Entire Home'])\n",
        "plt.show()"
      ],
      "metadata": {
        "colab": {
          "base_uri": "https://localhost:8080/",
          "height": 295
        },
        "id": "f7m4QA_QWnwS",
        "outputId": "7c331de9-8dda-4ecd-b50e-e50cf96ac248"
      },
      "execution_count": null,
      "outputs": [
        {
          "output_type": "display_data",
          "data": {
            "text/plain": [
              "<Figure size 432x288 with 1 Axes>"
            ],
            "image/png": "[encoded data removed]"
          },
          "metadata": {
            "needs_background": "light"
          }
        }
      ]
    },
    {
      "cell_type": "code",
      "metadata": {
        "id": "63axla33P5vD",
        "colab": {
          "base_uri": "https://localhost:8080/",
          "height": 242
        },
        "outputId": "b406cc0e-5029-4788-f0a8-07443e967527"
      },
      "source": [
        "# Boxplot\n",
        "fig, ax = plt.subplots(figsize=(10,3))\n",
        "ax = sns.boxplot(x=\"log_price\", y=\"room_type\", data=df_airbnb, \n",
        "                 order=['Private room', 'Entire home/apt'], orient='h')\n",
        "ax.set_title(\"Box Plot: Log price, by Room Type\")\n",
        "plt.show()"
      ],
      "execution_count": null,
      "outputs": [
        {
          "output_type": "display_data",
          "data": {
            "text/plain": [
              "<Figure size 720x216 with 1 Axes>"
            ],
            "image/png": "[encoded data removed]"
          },
          "metadata": {
            "needs_background": "light"
          }
        }
      ]
    },
    {
      "cell_type": "markdown",
      "source": [
        "#### Checking Test Assumptions"
      ],
      "metadata": {
        "id": "hwDqQh70BxJj"
      }
    },
    {
      "cell_type": "markdown",
      "metadata": {
        "id": "YM_6pJJcn7tU"
      },
      "source": [
        "Simply, the Student's T-test has three main assumptions:\n",
        "1.  Independence \n",
        "2.  Normality\n",
        "3.  Homogenous Variance"
      ]
    },
    {
      "cell_type": "markdown",
      "metadata": {
        "id": "Z-PT8Qv5oZ40"
      },
      "source": [
        "##### 1. Independence"
      ]
    },
    {
      "cell_type": "markdown",
      "source": [
        "> Intuitively, we will assume that the assumption for independence is satisfied -- One rental price would not influence other rental prices. However, some hosts have more than one rental, which could lead to some dependence, but we will consider it negligible for the remainder of this analysis."
      ],
      "metadata": {
        "id": "giLEl_Qze2lE"
      }
    },
    {
      "cell_type": "markdown",
      "source": [
        "##### 2. Normality"
      ],
      "metadata": {
        "id": "U7f4QJxwnW2j"
      }
    },
    {
      "cell_type": "code",
      "source": [
        "#plot hist of log_price for room and home together\n",
        "plt.hist(df_room['log_price'], alpha = .5, bins = 25)\n",
        "plt.hist(df_home['log_price'], alpha = .5, bins = 25)\n",
        "plt.title(\"Histogram for Log Price, Private room vs Entire Home\")\n",
        "plt.xlabel(\"Log Price\")\n",
        "plt.ylabel(\"Count\")\n",
        "plt.legend(['Private Room','Entire Home'])\n",
        "plt.show()"
      ],
      "metadata": {
        "colab": {
          "base_uri": "https://localhost:8080/",
          "height": 295
        },
        "id": "TCFmbiFhn7EL",
        "outputId": "5db33e05-9c7f-45aa-9a58-9d8717b71e1f"
      },
      "execution_count": null,
      "outputs": [
        {
          "output_type": "display_data",
          "data": {
            "text/plain": [
              "<Figure size 432x288 with 1 Axes>"
            ],
            "image/png": "[encoded data removed]"
          },
          "metadata": {
            "needs_background": "light"
          }
        }
      ]
    },
    {
      "cell_type": "markdown",
      "metadata": {
        "id": "MMSq5HWVygPw"
      },
      "source": [
        "- Visually, each group appears to be approximately normally distrubted"
      ]
    },
    {
      "cell_type": "code",
      "source": [
        "#qq plots\n",
        "fig, axes = plt.subplots(1, 2, figsize=(10, 3), sharey=False)\n",
        "sm.qqplot(df_room['log_price'], line=\"s\",ax=axes[0])\n",
        "axes[0].set_title('QQ Plot: Private Room')\n",
        "sm.qqplot(df_home['log_price'], line=\"s\",ax=axes[1])\n",
        "axes[1].set_title('QQ Plot: Entire Home')\n",
        "plt.show()"
      ],
      "metadata": {
        "colab": {
          "base_uri": "https://localhost:8080/",
          "height": 241
        },
        "id": "-pRIuh6BqarW",
        "outputId": "51142860-da27-48a7-9665-9257318593ee"
      },
      "execution_count": null,
      "outputs": [
        {
          "output_type": "display_data",
          "data": {
            "text/plain": [
              "<Figure size 720x216 with 2 Axes>"
            ],
            "image/png": "[encoded data removed]"
          },
          "metadata": {
            "needs_background": "light"
          }
        }
      ]
    },
    {
      "cell_type": "markdown",
      "source": [
        "- A QQ plot would follow the red 45-degree line for a theoretically normal distribution\n",
        "- This data for each group appears to be approximately normal except for the tails of the distribution, which is not unexpected for real-life data\n",
        "\n"
      ],
      "metadata": {
        "id": "Fb9Szaj2nkE6"
      }
    },
    {
      "cell_type": "code",
      "source": [
        "print('Descriptive Statistics for Log Price, Private Room:', '\\n')\n",
        "print('mean: {:.2f}'.format(stats.describe(df_room['log_price'])[2]))\n",
        "print('variance: {:.3f}'.format(stats.describe(df_room['log_price'])[3]))\n",
        "print('skewness: {:.2f}'.format(stats.describe(df_room['log_price'])[4]))\n",
        "print('kurtosis: {:.2f}'.format(stats.describe(df_room['log_price'])[5]))"
      ],
      "metadata": {
        "colab": {
          "base_uri": "https://localhost:8080/"
        },
        "id": "pktauE-2rW-l",
        "outputId": "a636e45a-df91-439c-b1a8-b714f62de44b"
      },
      "execution_count": null,
      "outputs": [
        {
          "output_type": "stream",
          "name": "stdout",
          "text": [
            "Descriptive Statistics for Log Price, Private Room: \n",
            "\n",
            "mean: 1.86\n",
            "variance: 0.048\n",
            "skewness: 1.16\n",
            "kurtosis: 3.52\n"
          ]
        }
      ]
    },
    {
      "cell_type": "code",
      "source": [
        "print('Descriptive Statistics for Log Price, Entire home/apt:', '\\n')\n",
        "print('mean: {:.2f}'.format(stats.describe(df_home['log_price'])[2]))\n",
        "print('variance: {:.3f}'.format(stats.describe(df_home['log_price'])[3]))\n",
        "print('skewness: {:.2f}'.format(stats.describe(df_home['log_price'])[4]))\n",
        "print('kurtosis: {:.2f}'.format(stats.describe(df_home['log_price'])[5]))"
      ],
      "metadata": {
        "id": "ZNc67PZFLAvD",
        "colab": {
          "base_uri": "https://localhost:8080/"
        },
        "outputId": "84c0a0b3-0fad-49b6-c7d0-9bec25bf7cc5"
      },
      "execution_count": null,
      "outputs": [
        {
          "output_type": "stream",
          "name": "stdout",
          "text": [
            "Descriptive Statistics for Log Price, Entire home/apt: \n",
            "\n",
            "mean: 2.23\n",
            "variance: 0.055\n",
            "skewness: 0.54\n",
            "kurtosis: 1.29\n"
          ]
        }
      ]
    },
    {
      "cell_type": "markdown",
      "source": [
        "- The suggested rule of thumb that $|Skew| < 3$  and $|Kurtosis| < 8$ are both satisfied for each group"
      ],
      "metadata": {
        "id": "R1XNVVU-sKTl"
      }
    },
    {
      "cell_type": "markdown",
      "source": [
        "Now, lets formally test for Normality using two tests:\n",
        "\n",
        "1.   Shapiro–Wilk (SW)\n",
        "2.   Anderson-Darling (AD)"
      ],
      "metadata": {
        "id": "4JI2ZEAOXBx5"
      }
    },
    {
      "cell_type": "code",
      "metadata": {
        "id": "nKFhLla7x8Tl",
        "colab": {
          "base_uri": "https://localhost:8080/"
        },
        "outputId": "40d39af3-1050-43c5-8fed-fcd63572f46e"
      },
      "source": [
        "#Shapiro-Wilk test\n",
        "room_SW = stats.shapiro(df_room['log_price'])\n",
        "home_SW = stats.shapiro(df_home['log_price'])\n",
        "\n",
        "#Anderson-Darling Test\n",
        "room_AD = stats.anderson(df_room['log_price'])\n",
        "home_AD = stats.anderson(df_home['log_price'])\n",
        "\n",
        "print(\n",
        "    '''\n",
        "    Private Room: \n",
        "    The SW test statistic is {:.3f} with a p-value of {:.5f}\n",
        "    '''\n",
        "    .format(room_SW[0], room_SW[1])\n",
        "    )\n",
        "\n",
        "print(\n",
        "    '''\n",
        "    Entire Home: \n",
        "    The SW test statistic is: {:.3f} with a p-value of {:.5f}\n",
        "    '''\n",
        "    .format(home_SW[0], home_SW[1])\n",
        "    )"
      ],
      "execution_count": null,
      "outputs": [
        {
          "output_type": "stream",
          "name": "stdout",
          "text": [
            "\n",
            "    Private Room: \n",
            "    The SW test statistic is 0.940 with a p-value of 0.00000\n",
            "    \n",
            "\n",
            "    Entire Home: \n",
            "    The SW test statistic is: 0.977 with a p-value of 0.00000\n",
            "    \n"
          ]
        },
        {
          "output_type": "stream",
          "name": "stderr",
          "text": [
            "/usr/local/lib/python3.7/dist-packages/scipy/stats/morestats.py:1676: UserWarning: p-value may not be accurate for N > 5000.\n",
            "  warnings.warn(\"p-value may not be accurate for N > 5000.\")\n"
          ]
        }
      ]
    },
    {
      "cell_type": "markdown",
      "source": [
        "For both groups, we reject normality."
      ],
      "metadata": {
        "id": "AVZbRhebZVuV"
      }
    },
    {
      "cell_type": "code",
      "source": [
        "print(\"Anderson Darling Test \\n\")\n",
        "print(\"Private Room: \\n \")\n",
        "print(\"Test Statistic: {:.2f}\".format(room_AD.statistic))\n",
        "print(\"Critical Values: {}\".format(room_AD.critical_values))\n",
        "print(\"Significance Levels: {} \\n\".format((room_AD.significance_level)))\n",
        "print(\"--------------------------- \\n\")\n",
        "print(\"Entire home/apt: \\n\")\n",
        "print(\"Test Statistic: {:.2f}\".format(home_AD.statistic))\n",
        "print(\"Critical Values: {}\".format(home_AD.critical_values))\n",
        "print(\"Significance Levels: {}\".format((home_AD.significance_level)))"
      ],
      "metadata": {
        "id": "kDjYC9L0LAs8",
        "colab": {
          "base_uri": "https://localhost:8080/"
        },
        "outputId": "939c5dd0-0a70-466f-ccaa-4d848769aee3"
      },
      "execution_count": null,
      "outputs": [
        {
          "output_type": "stream",
          "name": "stdout",
          "text": [
            "Anderson Darling Test \n",
            "\n",
            "Private Room: \n",
            " \n",
            "Test Statistic: 207.95\n",
            "Critical Values: [0.576 0.656 0.787 0.918 1.092]\n",
            "Significance Levels: [15.  10.   5.   2.5  1. ] \n",
            "\n",
            "--------------------------- \n",
            "\n",
            "Entire home/apt: \n",
            "\n",
            "Test Statistic: 122.40\n",
            "Critical Values: [0.576 0.656 0.787 0.918 1.092]\n",
            "Significance Levels: [15.  10.   5.   2.5  1. ]\n"
          ]
        }
      ]
    },
    {
      "cell_type": "markdown",
      "metadata": {
        "id": "P2pspzNwz9zY"
      },
      "source": [
        "The test statistic is larger than all given critical values, so we reject normality at all given significance levels. "
      ]
    },
    {
      "cell_type": "markdown",
      "metadata": {
        "id": "7Yploph4zSJR"
      },
      "source": [
        "We reject normality for each group for both the Shapiro-Wilk and Anderson Darling tests. Note that the Shapiro-Wilk test is sensitive to small deviations from normality for large sample sizes."
      ]
    },
    {
      "cell_type": "markdown",
      "source": [
        "Even though we statistically rejected normality with the SW and AD tests, we noted previously that the histograms and QQ plots look relatively normal -- we would expect some deviations from normality in real-data situations. We will move forward with the t-test."
      ],
      "metadata": {
        "id": "OLoP_Db5aX9o"
      }
    },
    {
      "cell_type": "markdown",
      "source": [
        "##### 3. Homogeneous Variance"
      ],
      "metadata": {
        "id": "Y0YaY2Y6bA-H"
      }
    },
    {
      "cell_type": "markdown",
      "metadata": {
        "id": "D-pxPAvK037Q"
      },
      "source": [
        "We will formally test for equality of variance across groups with two tests:\n",
        "\n",
        "\n",
        "1.   Barlett's test\n",
        "2.   Levene test\n",
        "\n"
      ]
    },
    {
      "cell_type": "code",
      "metadata": {
        "id": "gCoXNZ10z1hS",
        "colab": {
          "base_uri": "https://localhost:8080/"
        },
        "outputId": "11a2491c-b7b7-468a-8ebc-c601983adbc9"
      },
      "source": [
        "#Barlett's test\n",
        "bartletttest = stats.bartlett(df_room['log_price'], df_home['log_price'])\n",
        "print(\n",
        "    '''\n",
        "    The Barlett test statistic is {:.2f} with a p-value of {:.5f}.\n",
        "    '''\n",
        "    .format(bartletttest.statistic, bartletttest.pvalue)\n",
        "    )"
      ],
      "execution_count": null,
      "outputs": [
        {
          "output_type": "stream",
          "name": "stdout",
          "text": [
            "\n",
            "    The Barlett test statistic is 105.96 with a p-value of 0.00000.\n",
            "    \n"
          ]
        }
      ]
    },
    {
      "cell_type": "code",
      "metadata": {
        "id": "wNAKWp0l1Glk",
        "colab": {
          "base_uri": "https://localhost:8080/"
        },
        "outputId": "37e078bf-4c51-472a-b0e7-f9bddc4ee401"
      },
      "source": [
        "#Levene test\n",
        "#Less senstive to departures from normalitiy than bartlett\n",
        "\n",
        "levenetest = stats.levene(df_room['log_price'], df_home['log_price'])\n",
        "print(\n",
        "    '''\n",
        "    The Levene test statistic is {:.2f} with a p-value of {:.5f}.\n",
        "    '''\n",
        "    .format(levenetest.statistic, levenetest.pvalue)\n",
        "    )"
      ],
      "execution_count": null,
      "outputs": [
        {
          "output_type": "stream",
          "name": "stdout",
          "text": [
            "\n",
            "    The Levene test statistic is 152.43 with a p-value of 0.00000.\n",
            "    \n"
          ]
        }
      ]
    },
    {
      "cell_type": "markdown",
      "metadata": {
        "id": "t2aZbpAu1Qgu"
      },
      "source": [
        "We reject the hypothesis that the group variances are the same. This violates an assumption of the t-test. However, since the two group look fairly similarly distrituted in the histogram, we will move on with our t-test. "
      ]
    },
    {
      "cell_type": "markdown",
      "source": [
        "####Parametric Test\n"
      ],
      "metadata": {
        "id": "nmCmkZ3OeJRf"
      }
    },
    {
      "cell_type": "markdown",
      "source": [
        "######The t-test"
      ],
      "metadata": {
        "id": "wv1mTbSQmq9k"
      }
    },
    {
      "cell_type": "code",
      "metadata": {
        "id": "Sjn4aJHQ1Ieh",
        "colab": {
          "base_uri": "https://localhost:8080/"
        },
        "outputId": "4fe123b3-1e51-4a47-e018-14d8895c734c"
      },
      "source": [
        "ttest = stats.ttest_ind(df_home['log_price'], df_room['log_price'])\n",
        "print(\n",
        "    '''\n",
        "    The t-test statistic is {:.2f} with a p-value of {:.5f}.\n",
        "    '''\n",
        "    .format(ttest.statistic, ttest.pvalue))"
      ],
      "execution_count": null,
      "outputs": [
        {
          "output_type": "stream",
          "name": "stdout",
          "text": [
            "\n",
            "    The t-test statistic is 174.60 with a p-value of 0.00000.\n",
            "    \n"
          ]
        }
      ]
    },
    {
      "cell_type": "markdown",
      "metadata": {
        "id": "bUKcbmct14Uh"
      },
      "source": [
        "We reject the null hypothesis that the average log prices are the same for rentals for the entire house versus a private room. \n",
        "\n",
        "Intuitively, we expected the two groups to differ. "
      ]
    },
    {
      "cell_type": "markdown",
      "source": [
        "Confidence Interval (CI)"
      ],
      "metadata": {
        "id": "8QivZfT6feVw"
      }
    },
    {
      "cell_type": "code",
      "metadata": {
        "id": "ARmqWhrD1gmQ"
      },
      "source": [
        "#Function to calculating (ci_perc)% CI for a difference between two means\n",
        "\n",
        "#ci_perc: (0,100)\n",
        "\n",
        "#prints for CI of transformed log data \n",
        "#and translation back into into ratio of geometric means\n",
        "\n",
        "def get_ci(array_1, array_2, ci_perc):\n",
        "    n1 = array_1.shape[0] #sample size array_1\n",
        "    n2 = array_2.shape[0] #sample size array_2\n",
        "\n",
        "    mu1 = array_1.mean() \n",
        "    mu2 = array_2.mean() \n",
        "\n",
        "    var1 = array_1.var() \n",
        "    var2 = array_2.var() \n",
        "    \n",
        "    mu_diff = mu2 - mu1 \n",
        "    \n",
        "    #pooled estimate of the common standard deviation \n",
        "    std_pooled = math.sqrt((((n1 - 1)*var1) + ((n2 - 1)*var2)) / (n1 + n2 - 2))\n",
        "\n",
        "    alpha = 1 - (ci_perc/100) #significance level\n",
        "    df = n1 + n2 - 2 #degrees of freedom\n",
        "    t_crit = stats.t.ppf((1 - (alpha/2)), df)\n",
        "    \n",
        "    margin_err = t_crit*std_pooled*math.sqrt(n1**-1 + n2**-1)\n",
        "\n",
        "    ci_lower = mu_diff - margin_err\n",
        "    ci_upper = mu_diff + margin_err\n",
        "\n",
        "    ratio_lower = 10**ci_lower\n",
        "    ratio_upper = 10**ci_upper\n",
        "    ratio_mudiff = 10**mu_diff\n",
        "\n",
        "    return(\n",
        "        '''\n",
        "        The difference in means for the log transformed data at the {:.0f}% \n",
        "        confidence interval is between {:.3f} and {:.3f}. \\n \n",
        "\n",
        "        The geometric mean price of Group 1 is {:.3f} times as much as \n",
        "        Group 2 ({}% CI: {:.3f} to {:.3f} times as much). \n",
        "\n",
        "        '''\n",
        "        .format(ci_perc, \n",
        "                ci_lower, \n",
        "                ci_upper,\n",
        "                ratio_mudiff,\n",
        "                ci_perc,\n",
        "                ratio_lower,\n",
        "                ratio_upper)\n",
        "    )"
      ],
      "execution_count": null,
      "outputs": []
    },
    {
      "cell_type": "code",
      "source": [
        "ci = get_ci(df_room['log_price'], df_home['log_price'], 95)\n",
        "print(ci)"
      ],
      "metadata": {
        "colab": {
          "base_uri": "https://localhost:8080/"
        },
        "id": "lnbKWcjMlXng",
        "outputId": "bb1b036f-4a57-49a1-a05d-9c42601ea389"
      },
      "execution_count": null,
      "outputs": [
        {
          "output_type": "stream",
          "name": "stdout",
          "text": [
            "\n",
            "        The difference in means for the log transformed data at the 95% \n",
            "        confidence interval is between 0.360 and 0.368. \n",
            " \n",
            "\n",
            "        The geometric mean price of Group 1 is 2.311 times as much as \n",
            "        Group 2 (95% CI: 2.289 to 2.333 times as much). \n",
            "\n",
            "        \n"
          ]
        }
      ]
    },
    {
      "cell_type": "markdown",
      "source": [
        "####Non Parametric Tests"
      ],
      "metadata": {
        "id": "Zp9m9zo4nfOv"
      }
    },
    {
      "cell_type": "markdown",
      "metadata": {
        "id": "aLJhTT-tIIMe"
      },
      "source": [
        "Since we rejected the assumptions for normality and homogeneous variance, I will consider two non-parametric tests:\n",
        "\n",
        "1.   Kruskal–Wallis (KW)\n",
        "2.   Median Test\n",
        "\n"
      ]
    },
    {
      "cell_type": "code",
      "metadata": {
        "id": "2TWh9fuoH9UE",
        "colab": {
          "base_uri": "https://localhost:8080/"
        },
        "outputId": "ba2b63f1-d800-4712-c227-042bf2dc5e53"
      },
      "source": [
        "#KW\n",
        "kruskaltest = stats.kruskal(df_room['log_price'], df_home['log_price'])\n",
        "print(\"The KW test statistic is {:.2} with a p-value of {:.5}.\".format(\n",
        "    kruskaltest.statistic, kruskaltest.pvalue))"
      ],
      "execution_count": null,
      "outputs": [
        {
          "output_type": "stream",
          "name": "stdout",
          "text": [
            "The KW test statistic is 2.1e+04 with a p-value of 0.0.\n"
          ]
        }
      ]
    },
    {
      "cell_type": "markdown",
      "source": [
        "- We reject the null hypothesis; thus, one sample stochastically dominates another sample. "
      ],
      "metadata": {
        "id": "TGo1cNCnnnsQ"
      }
    },
    {
      "cell_type": "code",
      "metadata": {
        "id": "3UT-nA3o1lKb",
        "colab": {
          "base_uri": "https://localhost:8080/"
        },
        "outputId": "9912be9d-797a-43d5-ec78-bae167378aa1"
      },
      "source": [
        "#Median Test\n",
        "stat, p, med, tbl = stats.median_test(\n",
        "    df_room['log_price'], \n",
        "    df_home['log_price'])\n",
        "print(\"The Median test statistic is {:.2} with a p-value of {:.5}.\".\n",
        "      format(stat, p))"
      ],
      "execution_count": null,
      "outputs": [
        {
          "output_type": "stream",
          "name": "stdout",
          "text": [
            "The Median test statistic is 1.9e+04 with a p-value of 0.0.\n"
          ]
        }
      ]
    },
    {
      "cell_type": "markdown",
      "source": [
        "- We reject the null hypothesis that the two samples come from populations with an equal median value.\n"
      ],
      "metadata": {
        "id": "2V0R4DjGxnp6"
      }
    },
    {
      "cell_type": "markdown",
      "source": [
        "####Summary"
      ],
      "metadata": {
        "id": "rZaax0UjIfww"
      }
    },
    {
      "cell_type": "markdown",
      "source": [
        "Our findings for the comparisons of Room Types are as follows: \n",
        "\n",
        "- T-test: Groups are significantly different\n",
        "- KW Test: Samples are significantly different\n",
        "- Median Test: Medians are significantly different \n",
        "\n",
        "We confirmed our intuition; the prices for rentals that include the entire home is significantly different from rental prices with a private room. "
      ],
      "metadata": {
        "id": "PxIug7V_ILP9"
      }
    },
    {
      "cell_type": "markdown",
      "source": [
        "### Research Question 2: Comparison of *Neighbourhood Groups*"
      ],
      "metadata": {
        "id": "7ViO3NObyhwc"
      }
    },
    {
      "cell_type": "markdown",
      "source": [
        "#### Introduction"
      ],
      "metadata": {
        "id": "-PQGF2yJyz8w"
      }
    },
    {
      "cell_type": "markdown",
      "metadata": {
        "id": "TkZYVpvEJOMN"
      },
      "source": [
        "Next, let's look at `neighbourhood_groups` to see if there are significantly different prices in different NYC neighbourhoods. Intuitively, we would expect rental costs to differ based on location in NYC."
      ]
    },
    {
      "cell_type": "markdown",
      "source": [
        "Research Question:\n",
        "> Is there a statistically significant difference in the average daily rental price for Airbnb rentals in NYC in 2019 in different neighbourhood groups?"
      ],
      "metadata": {
        "id": "FGbki3whzkva"
      }
    },
    {
      "cell_type": "markdown",
      "source": [
        "Recall in the exploratory analysis that `neighbourhood_group` is an unbalanced variable. However, since the rental prices in Queens, Bronx, and Staten Island are similarly distributed, seen in the box plot below, I will combine Queens, Bronx, and Staten Island into a single neighbourhood group, `QBS`, to achieve a more balanced grouping for testing."
      ],
      "metadata": {
        "id": "P5PRfYup1xbP"
      }
    },
    {
      "cell_type": "code",
      "source": [
        "#function to recategorize 'neighbourhood_groups' \n",
        "def categorize_neighbourhoods(var):\n",
        "    if var == 'Manhattan':\n",
        "        return 'Manhattan'\n",
        "    elif var == 'Brooklyn':\n",
        "        return 'Brooklyn'\n",
        "    else:\n",
        "        return 'QBS'\n",
        "\n",
        "#use the pandas `apply()` method by calling the function above\n",
        "df_airbnb['neighbourhood_regroup'] = df_airbnb[\n",
        "                                               'neighbourhood_group'\n",
        "                                               ].apply(categorize_neighbourhoods\n",
        "                                                       )"
      ],
      "metadata": {
        "id": "jUeUvNH-4omA"
      },
      "execution_count": null,
      "outputs": []
    },
    {
      "cell_type": "code",
      "source": [
        "plt.figure(figsize = (13,3))\n",
        "plt.suptitle('Combining Neighbourhood Groups', fontsize=16)\n",
        "\n",
        "plt.subplots_adjust(left=0.1,\n",
        "                    bottom=0.1, \n",
        "                    right=0.9, \n",
        "                    top=0.8, \n",
        "                    wspace=0.3, \n",
        "                    hspace=0.4)\n",
        "\n",
        "plt.subplot(1,3,1)\n",
        "sns.histplot(df['neighbourhood_group'])\n",
        "plt.xticks(rotation = 45)\n",
        "plt.xlabel('Neighbourhood')\n",
        "plt.ylabel(\"Count\")\n",
        "\n",
        "plt.subplot(1,3,2)\n",
        "sns.histplot(df_airbnb['neighbourhood_regroup'])\n",
        "plt.xticks(rotation = 45)\n",
        "plt.xlabel('Neighbourhood')\n",
        "plt.ylabel(\"Count\")\n",
        "\n",
        "plt.subplot(1,3,3)\n",
        "sns.boxplot(data=df_airbnb, y='log_price', x='neighbourhood_group', \n",
        "            order=['Queens', 'Bronx', 'Staten Island'], orient='v')\n",
        "plt.xticks(rotation = 45)\n",
        "plt.xlabel('Neighbourhood')\n",
        "plt.show()"
      ],
      "metadata": {
        "colab": {
          "base_uri": "https://localhost:8080/"
        },
        "id": "pHPiY8ee1_i0",
        "outputId": "214428d4-a133-489a-fd5b-b17dfedcbee7"
      },
      "execution_count": null,
      "outputs": [
        {
          "output_type": "display_data",
          "data": {
            "text/plain": [
              "<Figure size 936x216 with 3 Axes>"
            ],
            "image/png": "[encoded data removed]"
          },
          "metadata": {
            "needs_background": "light"
          }
        }
      ]
    },
    {
      "cell_type": "markdown",
      "source": [
        "I will be using the variable `neighbourhood_regroup` for the F test, where: \n",
        "\n",
        "*   Group 1: Manhattan \n",
        "*   Group 2: Brooklyn\n",
        "*   Group 3: Queens OR Staten Island OR Bronx (QBS)  "
      ],
      "metadata": {
        "id": "9Z9V3w_D0sYe"
      }
    },
    {
      "cell_type": "markdown",
      "source": [
        "Formally,\n",
        "\n",
        "Null Hypothesis\n",
        "> $H_0: \\mu_1 = \\mu_2 = \\mu_3$\n",
        "\n",
        "Alternative Hypothesis\n",
        "> $H_1: \\mu_1 \\neq \\mu_2 \\neq \\mu_3$"
      ],
      "metadata": {
        "id": "LPsPYndKzoOR"
      }
    },
    {
      "cell_type": "markdown",
      "source": [
        "I would expect that, on average, rental prices would differ in different neighbourhoods, but I will formally test this hypothesis using an F-test."
      ],
      "metadata": {
        "id": "Cer3hsu-zvXA"
      }
    },
    {
      "cell_type": "markdown",
      "source": [
        "##### Inital Look at the Data"
      ],
      "metadata": {
        "id": "U-7VmDq7AHay"
      }
    },
    {
      "cell_type": "code",
      "source": [
        "plt.figure(figsize = (13.5,4.2))\n",
        "plt.suptitle('Neighbourhood Groups', fontsize=16)\n",
        "\n",
        "plt.subplots_adjust(left=0.1,\n",
        "                    bottom=0.2, \n",
        "                    right=0.9, \n",
        "                    top=0.8, \n",
        "                    wspace=0.3, \n",
        "                    hspace=0.4)\n",
        "\n",
        "plt.subplot(1,2,1)\n",
        "sns.histplot(data=df_airbnb, x='log_price', hue='neighbourhood_regroup', \n",
        "             alpha=.5, bins=30, kde=True)\n",
        "plt.title('Histogram by Neighbourhood Group')\n",
        "\n",
        "plt.subplot(1,2,2)\n",
        "sns.boxplot(data=df_airbnb, x='log_price', y='neighbourhood_regroup')\n",
        "plt.title('Boxplot by Neighbourhood Group')\n",
        "plt.show()"
      ],
      "metadata": {
        "colab": {
          "base_uri": "https://localhost:8080/"
        },
        "id": "aTz6UbiiASHr",
        "outputId": "b0322158-1515-42f9-b688-125c6945ff03"
      },
      "execution_count": null,
      "outputs": [
        {
          "output_type": "display_data",
          "data": {
            "text/plain": [
              "<Figure size 972x302.4 with 2 Axes>"
            ],
            "image/png": "[encoded data removed]"
          },
          "metadata": {
            "needs_background": "light"
          }
        }
      ]
    },
    {
      "cell_type": "code",
      "metadata": {
        "id": "6q_apoaVJhnI",
        "colab": {
          "base_uri": "https://localhost:8080/"
        },
        "outputId": "f5136368-60aa-41a2-fb73-b572cce6c973"
      },
      "source": [
        "round(df_airbnb.groupby(['neighbourhood_regroup'])['log_price'].describe(),2)"
      ],
      "execution_count": null,
      "outputs": [
        {
          "output_type": "execute_result",
          "data": {
            "text/plain": [
              "                         count  mean   std  min   25%   50%   75%   max\n",
              "neighbourhood_regroup                                                  \n",
              "Brooklyn               20070.0  1.98  0.27  1.0  1.78  1.95  2.18  3.26\n",
              "Manhattan              21575.0  2.17  0.28  1.0  1.98  2.18  2.34  3.26\n",
              "QBS                     7122.0  1.89  0.26  1.0  1.70  1.86  2.04  3.26"
            ],
            "text/html": [
              "\n",
              "  <div id=\"df-56edf00c-9321-4146-b6d1-322be08d1a8a\">\n",
              "    <div class=\"colab-df-container\">\n",
              "      <div>\n",
              "<style scoped>\n",
              "    .dataframe tbody tr th:only-of-type {\n",
              "        vertical-align: middle;\n",
              "    }\n",
              "\n",
              "    .dataframe tbody tr th {\n",
              "        vertical-align: top;\n",
              "    }\n",
              "\n",
              "    .dataframe thead th {\n",
              "        text-align: right;\n",
              "    }\n",
              "</style>\n",
              "<table border=\"1\" class=\"dataframe\">\n",
              "  <thead>\n",
              "    <tr style=\"text-align: right;\">\n",
              "      <th></th>\n",
              "      <th>count</th>\n",
              "      <th>mean</th>\n",
              "      <th>std</th>\n",
              "      <th>min</th>\n",
              "      <th>25%</th>\n",
              "      <th>50%</th>\n",
              "      <th>75%</th>\n",
              "      <th>max</th>\n",
              "    </tr>\n",
              "    <tr>\n",
              "      <th>neighbourhood_regroup</th>\n",
              "      <th></th>\n",
              "      <th></th>\n",
              "      <th></th>\n",
              "      <th></th>\n",
              "      <th></th>\n",
              "      <th></th>\n",
              "      <th></th>\n",
              "      <th></th>\n",
              "    </tr>\n",
              "  </thead>\n",
              "  <tbody>\n",
              "    <tr>\n",
              "      <th>Brooklyn</th>\n",
              "      <td>20070.0</td>\n",
              "      <td>1.98</td>\n",
              "      <td>0.27</td>\n",
              "      <td>1.0</td>\n",
              "      <td>1.78</td>\n",
              "      <td>1.95</td>\n",
              "      <td>2.18</td>\n",
              "      <td>3.26</td>\n",
              "    </tr>\n",
              "    <tr>\n",
              "      <th>Manhattan</th>\n",
              "      <td>21575.0</td>\n",
              "      <td>2.17</td>\n",
              "      <td>0.28</td>\n",
              "      <td>1.0</td>\n",
              "      <td>1.98</td>\n",
              "      <td>2.18</td>\n",
              "      <td>2.34</td>\n",
              "      <td>3.26</td>\n",
              "    </tr>\n",
              "    <tr>\n",
              "      <th>QBS</th>\n",
              "      <td>7122.0</td>\n",
              "      <td>1.89</td>\n",
              "      <td>0.26</td>\n",
              "      <td>1.0</td>\n",
              "      <td>1.70</td>\n",
              "      <td>1.86</td>\n",
              "      <td>2.04</td>\n",
              "      <td>3.26</td>\n",
              "    </tr>\n",
              "  </tbody>\n",
              "</table>\n",
              "</div>\n",
              "      <button class=\"colab-df-convert\" onclick=\"convertToInteractive('df-56edf00c-9321-4146-b6d1-322be08d1a8a')\"\n",
              "              title=\"Convert this dataframe to an interactive table.\"\n",
              "              style=\"display:none;\">\n",
              "        \n",
              "  <svg xmlns=\"http://www.w3.org/2000/svg\" height=\"24px\"viewBox=\"0 0 24 24\"\n",
              "       width=\"24px\">\n",
              "    <path d=\"M0 0h24v24H0V0z\" fill=\"none\"/>\n",
              "    <path d=\"M18.56 5.44l.94 2.06.94-2.06 2.06-.94-2.06-.94-.94-2.06-.94 2.06-2.06.94zm-11 1L8.5 8.5l.94-2.06 2.06-.94-2.06-.94L8.5 2.5l-.94 2.06-2.06.94zm10 10l.94 2.06.94-2.06 2.06-.94-2.06-.94-.94-2.06-.94 2.06-2.06.94z\"/><path d=\"M17.41 7.96l-1.37-1.37c-.4-.4-.92-.59-1.43-.59-.52 0-1.04.2-1.43.59L10.3 9.45l-7.72 7.72c-.78.78-.78 2.05 0 2.83L4 21.41c.39.39.9.59 1.41.59.51 0 1.02-.2 1.41-.59l7.78-7.78 2.81-2.81c.8-.78.8-2.07 0-2.86zM5.41 20L4 18.59l7.72-7.72 1.47 1.35L5.41 20z\"/>\n",
              "  </svg>\n",
              "      </button>\n",
              "      \n",
              "  <style>\n",
              "    .colab-df-container {\n",
              "      display:flex;\n",
              "      flex-wrap:wrap;\n",
              "      gap: 12px;\n",
              "    }\n",
              "\n",
              "    .colab-df-convert {\n",
              "      background-color: #E8F0FE;\n",
              "      border: none;\n",
              "      border-radius: 50%;\n",
              "      cursor: pointer;\n",
              "      display: none;\n",
              "      fill: #1967D2;\n",
              "      height: 32px;\n",
              "      padding: 0 0 0 0;\n",
              "      width: 32px;\n",
              "    }\n",
              "\n",
              "    .colab-df-convert:hover {\n",
              "      background-color: #E2EBFA;\n",
              "      box-shadow: 0px 1px 2px rgba(60, 64, 67, 0.3), 0px 1px 3px 1px rgba(60, 64, 67, 0.15);\n",
              "      fill: #174EA6;\n",
              "    }\n",
              "\n",
              "    [theme=dark] .colab-df-convert {\n",
              "      background-color: #3B4455;\n",
              "      fill: #D2E3FC;\n",
              "    }\n",
              "\n",
              "    [theme=dark] .colab-df-convert:hover {\n",
              "      background-color: #434B5C;\n",
              "      box-shadow: 0px 1px 3px 1px rgba(0, 0, 0, 0.15);\n",
              "      filter: drop-shadow(0px 1px 2px rgba(0, 0, 0, 0.3));\n",
              "      fill: #FFFFFF;\n",
              "    }\n",
              "  </style>\n",
              "\n",
              "      <script>\n",
              "        const buttonEl =\n",
              "          document.querySelector('#df-56edf00c-9321-4146-b6d1-322be08d1a8a button.colab-df-convert');\n",
              "        buttonEl.style.display =\n",
              "          google.colab.kernel.accessAllowed ? 'block' : 'none';\n",
              "\n",
              "        async function convertToInteractive(key) {\n",
              "          const element = document.querySelector('#df-56edf00c-9321-4146-b6d1-322be08d1a8a');\n",
              "          const dataTable =\n",
              "            await google.colab.kernel.invokeFunction('convertToInteractive',\n",
              "                                                     [key], {});\n",
              "          if (!dataTable) return;\n",
              "\n",
              "          const docLinkHtml = 'Like what you see? Visit the ' +\n",
              "            '<a target=\"_blank\" href=https://colab.research.google.com/notebooks/data_table.ipynb>data table notebook</a>'\n",
              "            + ' to learn more about interactive tables.';\n",
              "          element.innerHTML = '';\n",
              "          dataTable['output_type'] = 'display_data';\n",
              "          await google.colab.output.renderOutput(dataTable, element);\n",
              "          const docLink = document.createElement('div');\n",
              "          docLink.innerHTML = docLinkHtml;\n",
              "          element.appendChild(docLink);\n",
              "        }\n",
              "      </script>\n",
              "    </div>\n",
              "  </div>\n",
              "  "
            ]
          },
          "metadata": {},
          "execution_count": 53
        }
      ]
    },
    {
      "cell_type": "markdown",
      "source": [
        "#### Checking Test Assumptions"
      ],
      "metadata": {
        "id": "NyFfhYirFL6T"
      }
    },
    {
      "cell_type": "markdown",
      "metadata": {
        "id": "armPDjGoFL6U"
      },
      "source": [
        "Simply, the F-test has three main assumptions:\n",
        "1.  Independence \n",
        "2.  Normality\n",
        "3.  Homogenous Variance"
      ]
    },
    {
      "cell_type": "markdown",
      "metadata": {
        "id": "vHK7d-CrFL6U"
      },
      "source": [
        "##### 1. Independence"
      ]
    },
    {
      "cell_type": "markdown",
      "source": [
        "> Again, we will assume that the assumption for independence is satisfied -- One rental price would not influence other rental prices. "
      ],
      "metadata": {
        "id": "fXTmNzTdFL6V"
      }
    },
    {
      "cell_type": "markdown",
      "source": [
        "##### 2. Normality"
      ],
      "metadata": {
        "id": "pOs4jU7yFv5A"
      }
    },
    {
      "cell_type": "code",
      "source": [
        "#histogram by neighbourhood group\n",
        "sns.histplot(data=df_airbnb, x='log_price', hue='neighbourhood_regroup', \n",
        "             alpha=.5, bins=30, kde=True)\n",
        "plt.title('Histogram by Neighbourhood Group')\n",
        "plt.show()"
      ],
      "metadata": {
        "colab": {
          "base_uri": "https://localhost:8080/"
        },
        "id": "S-8uLpEJFLlw",
        "outputId": "43b57b90-8cfc-408f-b2a6-ce47d01b0ea8"
      },
      "execution_count": null,
      "outputs": [
        {
          "output_type": "display_data",
          "data": {
            "text/plain": [
              "<Figure size 432x288 with 1 Axes>"
            ],
            "image/png": "[encoded data removed]"
          },
          "metadata": {
            "needs_background": "light"
          }
        }
      ]
    },
    {
      "cell_type": "markdown",
      "metadata": {
        "id": "Mmd62c3dKIIy"
      },
      "source": [
        "- From the histograms, each neighborhood group appears approximately normally distributed."
      ]
    },
    {
      "cell_type": "code",
      "metadata": {
        "id": "alc4OI4mJuxe",
        "colab": {
          "base_uri": "https://localhost:8080/"
        },
        "outputId": "d7cf77dd-6794-463d-f9f1-834f736b6750"
      },
      "source": [
        "#calculate skew, kurt for each neighbourhood group\n",
        "\n",
        "#initialize\n",
        "unique_neighbourhoods = df_airbnb['neighbourhood_regroup'].unique()\n",
        "neighbourhood_skew = []\n",
        "neighbourhood_kurt = []\n",
        "\n",
        "#skew/kurt for each neighbourhood\n",
        "for neighbourhood in unique_neighbourhoods:\n",
        "  neighbourhood_skew.append(\n",
        "      stats.describe(\n",
        "          df_airbnb[df_airbnb['neighbourhood_regroup'] == neighbourhood]\n",
        "          ['log_price'])[4]\n",
        "          ) \n",
        "  neighbourhood_kurt.append(\n",
        "      stats.describe(\n",
        "          df_airbnb[df_airbnb['neighbourhood_regroup'] == neighbourhood]\n",
        "          ['log_price'])[5])\n",
        "\n",
        "#round each element in a list\n",
        "round_skew = [round(skew, 3) for skew in neighbourhood_skew]\n",
        "round_kurt = [round(kurt, 3) for kurt in neighbourhood_skew]\n",
        "\n",
        "print('Neighbourhoods:{}'.format(unique_neighbourhoods))\n",
        "print('Skew, by Neighbourhood: {}'.format(round_skew))\n",
        "print('Kurtosis, by Neighbourhood: {}'.format(round_kurt))"
      ],
      "execution_count": null,
      "outputs": [
        {
          "output_type": "stream",
          "name": "stdout",
          "text": [
            "Neighbourhoods:['Brooklyn' 'Manhattan' 'QBS']\n",
            "Skew, by Neighbourhood: [0.503, 0.293, 0.698]\n",
            "Kurtosis, by Neighbourhood: [0.503, 0.293, 0.698]\n"
          ]
        }
      ]
    },
    {
      "cell_type": "markdown",
      "source": [
        "- The suggested rule of thumb that $|Skew| < 3$  and $|Kurtosis| < 8$ are both satisfied for each group"
      ],
      "metadata": {
        "id": "t0T3CQWGHZ4s"
      }
    },
    {
      "cell_type": "code",
      "metadata": {
        "id": "XqAGeNaGKQuM",
        "colab": {
          "base_uri": "https://localhost:8080/"
        },
        "outputId": "82e2dd11-3de0-4741-81cd-69d8e68baa14"
      },
      "source": [
        "#qq plot by neighbourhood\n",
        "plt.figure(figsize = (13,4))\n",
        "plt.suptitle('QQ Plots', fontsize=16)\n",
        "\n",
        "plt.subplots_adjust(\n",
        "    top=0.85\n",
        "    )\n",
        "\n",
        "for i, neighbourhood in enumerate(unique_neighbourhoods):\n",
        "  plt.subplot(1,3,i+1)\n",
        "  stats.probplot(\n",
        "      df_airbnb[\n",
        "                df_airbnb['neighbourhood_regroup'] == neighbourhood\n",
        "                ]\n",
        "                 ['log_price'], dist=\"norm\", plot=plt)\n",
        "  plt.title(neighbourhood)"
      ],
      "execution_count": null,
      "outputs": [
        {
          "output_type": "display_data",
          "data": {
            "text/plain": [
              "<Figure size 936x288 with 3 Axes>"
            ],
            "image/png": "[encoded data removed]"
          },
          "metadata": {
            "needs_background": "light"
          }
        }
      ]
    },
    {
      "cell_type": "markdown",
      "source": [
        "- Again, a QQ plot would follow the red 45-degree line for a theoretically normal distribution\n",
        "- Each group appears to be approximately normal except for the tails of the distribution. The group `QBS` seems to deviate the most from normality in the right tail. This deviation makes sense because of the right-skew in the histogram.  \n",
        "\n"
      ],
      "metadata": {
        "id": "XEPpRdtzHgQ4"
      }
    },
    {
      "cell_type": "markdown",
      "source": [
        "In future work, we could formally test for normality using the tests Shapiro–Wilk (SW) and Anderson-Darling (AD), just like in Research Question 1.\n"
      ],
      "metadata": {
        "id": "U9_WHiIcKnVc"
      }
    },
    {
      "cell_type": "markdown",
      "source": [
        "##### 3. Homogeneous Variance\n"
      ],
      "metadata": {
        "id": "sp-fkQBAK0E0"
      }
    },
    {
      "cell_type": "markdown",
      "source": [
        "We will formally test for equality of variance across groups with two tests:\n",
        "\n",
        "- Barlett's test\n",
        "- Levene test"
      ],
      "metadata": {
        "id": "3gHKu5kfMon8"
      }
    },
    {
      "cell_type": "code",
      "metadata": {
        "id": "3cGWlNovKXek",
        "colab": {
          "base_uri": "https://localhost:8080/"
        },
        "outputId": "5159756f-e02c-4415-9021-d2f6f8bf69f0"
      },
      "source": [
        "#Bartlet's test\n",
        "bartletttest = stats.bartlett(\n",
        "    df_airbnb[df_airbnb['neighbourhood_regroup'] == 'Manhattan']['log_price'],\n",
        "    df_airbnb[df_airbnb['neighbourhood_regroup'] == 'Brooklyn']['log_price'],\n",
        "    df_airbnb[df_airbnb['neighbourhood_regroup'] == 'QBS']['log_price']\n",
        ")\n",
        "\n",
        "print(\"Statistic is {:.2f} with a p-value of {:.5f}\".format(\n",
        "    bartletttest.statistic, bartletttest.pvalue))"
      ],
      "execution_count": null,
      "outputs": [
        {
          "output_type": "stream",
          "name": "stdout",
          "text": [
            "Statistic is 90.57 with a p-value of 0.00000\n"
          ]
        }
      ]
    },
    {
      "cell_type": "code",
      "metadata": {
        "id": "gPATRuB3K5Os",
        "colab": {
          "base_uri": "https://localhost:8080/"
        },
        "outputId": "5e64392d-2ec2-491b-e0ed-3162cf2c1056"
      },
      "source": [
        "#Levene test\n",
        "#Less senstive to departures from normalitiy than bartlett\n",
        "levenetest = stats.levene(\n",
        "    df_airbnb[df_airbnb['neighbourhood_regroup'] == 'Manhattan']['log_price'],\n",
        "    df_airbnb[df_airbnb['neighbourhood_regroup'] == 'Brooklyn']['log_price'],\n",
        "    df_airbnb[df_airbnb['neighbourhood_regroup'] == 'QBS']['log_price']\n",
        ")\n",
        "\n",
        "print(\"Statistic is {:.2f} with a p-value of {:.5f}\".format(\n",
        "    levenetest.statistic, levenetest.pvalue))"
      ],
      "execution_count": null,
      "outputs": [
        {
          "output_type": "stream",
          "name": "stdout",
          "text": [
            "Statistic is 47.19 with a p-value of 0.00000\n"
          ]
        }
      ]
    },
    {
      "cell_type": "markdown",
      "source": [
        "For both the Barlett's and Levene test, we reject the null hypothesis that the variance across groups is equal. Thus, a violation of the assumption of homogeneous variance. In future work, I would explore the details of these tests for large sample sizes. For now, I will continue with the F-test."
      ],
      "metadata": {
        "id": "g2gjZUDKMIwv"
      }
    },
    {
      "cell_type": "markdown",
      "source": [
        "####Parametric Tests"
      ],
      "metadata": {
        "id": "frXfR7YCNUs0"
      }
    },
    {
      "cell_type": "markdown",
      "source": [
        "######F-test"
      ],
      "metadata": {
        "id": "I7rsbSlbNYSY"
      }
    },
    {
      "cell_type": "code",
      "source": [
        "ftest = stats.f_oneway(\n",
        "    df_airbnb[df_airbnb['neighbourhood_regroup'] == 'Manhattan']['log_price'],\n",
        "    df_airbnb[df_airbnb['neighbourhood_regroup'] == 'Brooklyn']['log_price'],\n",
        "    df_airbnb[df_airbnb['neighbourhood_regroup'] == 'QBS']['log_price']\n",
        ")"
      ],
      "metadata": {
        "id": "Oe7vmbdmNeGc"
      },
      "execution_count": null,
      "outputs": []
    },
    {
      "cell_type": "code",
      "source": [
        "print(\"F Statistic is {:.2f} with a p-value of {:.5f}\".format(\n",
        "    ftest.statistic, ftest.pvalue))"
      ],
      "metadata": {
        "colab": {
          "base_uri": "https://localhost:8080/"
        },
        "id": "lFTWSqTRNTbb",
        "outputId": "de2a3454-c184-4641-ae35-465a309c3693"
      },
      "execution_count": null,
      "outputs": [
        {
          "output_type": "stream",
          "name": "stdout",
          "text": [
            "F Statistic is 3793.74 with a p-value of 0.00000\n"
          ]
        }
      ]
    },
    {
      "cell_type": "markdown",
      "metadata": {
        "id": "52LvRlLILjEq"
      },
      "source": [
        "- We reject the null hypothesis that the average log rental prices are equal in each neighbourhood. Intuitively, this is what we expected. "
      ]
    },
    {
      "cell_type": "markdown",
      "source": [
        "######Tukey Pairwise Comparison"
      ],
      "metadata": {
        "id": "Q9PHA7y5BZcE"
      }
    },
    {
      "cell_type": "markdown",
      "source": [
        "We have confirmed that *at least one* of the three neighbourhood group rental prices differ significantly from the others. So next, I want to compare each neighbourhood group pairwise to see which groups are significantly different. \n",
        "\n",
        "The group comparisons are: \n",
        "- Brooklyn vs. Manhattan\n",
        "- Brooklyn vs. QBS\n",
        "- Manhattan vs. QBS\n",
        "\n",
        "I will accomplish this by using the Tukey Pairwise Comparison to control for Type I error."
      ],
      "metadata": {
        "id": "UFipl_klBiQp"
      }
    },
    {
      "cell_type": "code",
      "source": [
        "tukey = pairwise_tukeyhsd(\n",
        "    endog = df_airbnb['log_price'],               #data\n",
        "    groups = df_airbnb['neighbourhood_regroup'],  #groups\n",
        "    alpha = 0.05)                                 #significance level"
      ],
      "metadata": {
        "id": "l5HabGZGBY72"
      },
      "execution_count": null,
      "outputs": []
    },
    {
      "cell_type": "code",
      "metadata": {
        "id": "I2Cf1ImvLrpb",
        "colab": {
          "base_uri": "https://localhost:8080/"
        },
        "outputId": "c8fad3d6-2f20-47c4-a33e-4dd1af12f36d"
      },
      "source": [
        "print(tukey)"
      ],
      "execution_count": null,
      "outputs": [
        {
          "output_type": "stream",
          "name": "stdout",
          "text": [
            "   Multiple Comparison of Means - Tukey HSD, FWER=0.05   \n",
            "=========================================================\n",
            "  group1    group2  meandiff p-adj  lower   upper  reject\n",
            "---------------------------------------------------------\n",
            " Brooklyn Manhattan   0.1847 0.001  0.1784   0.191   True\n",
            " Brooklyn       QBS  -0.0929 0.001 -0.1018  -0.084   True\n",
            "Manhattan       QBS  -0.2776 0.001 -0.2864 -0.2688   True\n",
            "---------------------------------------------------------\n"
          ]
        }
      ]
    },
    {
      "cell_type": "markdown",
      "metadata": {
        "id": "s4WOyj8NMFfI"
      },
      "source": [
        "- We reject the null hypothesis that the average rental log price is the same for each of the three neighbourhood group comparisons. "
      ]
    },
    {
      "cell_type": "markdown",
      "source": [
        "Thus, the average rental price is significantly different for all neighbourhood groups."
      ],
      "metadata": {
        "id": "5uACsIHHEJIb"
      }
    },
    {
      "cell_type": "markdown",
      "source": [
        "####Non-parametric Tests"
      ],
      "metadata": {
        "id": "GyjRKlIJOCzb"
      }
    },
    {
      "cell_type": "markdown",
      "metadata": {
        "id": "93ca0rTmM8Cj"
      },
      "source": [
        "Next, since we formally rejected the assumption of normality and equality of variance for the F-test, we will consider two non-parametric tests:\n",
        "\n",
        "1.   Kruskal-Wallis\n",
        "2.   Median Test\n"
      ]
    },
    {
      "cell_type": "code",
      "metadata": {
        "id": "t4_gp8PpM2gQ",
        "colab": {
          "base_uri": "https://localhost:8080/"
        },
        "outputId": "2609489e-d70c-4b3a-94b7-3f9dab8a6214"
      },
      "source": [
        "#KW\n",
        "kruskaltest = stats.kruskal(\n",
        "    df_airbnb[df_airbnb['neighbourhood_regroup'] == 'Manhattan']['log_price'],\n",
        "    df_airbnb[df_airbnb['neighbourhood_regroup'] == 'Brooklyn']['log_price'],\n",
        "    df_airbnb[df_airbnb['neighbourhood_regroup'] == 'QBS']['log_price']\n",
        ")\n",
        "print(\"The KW test statistic is {:.2} with a p-value of {:.5}.\".format(\n",
        "    kruskaltest.statistic, kruskaltest.pvalue))"
      ],
      "execution_count": null,
      "outputs": [
        {
          "output_type": "stream",
          "name": "stdout",
          "text": [
            "The KW test statistic is 7e+03 with a p-value of 0.0.\n"
          ]
        }
      ]
    },
    {
      "cell_type": "markdown",
      "source": [
        "We reject the null hypothesis; thus, one sample stochastically dominates another sample. "
      ],
      "metadata": {
        "id": "348MK3Xh_J4z"
      }
    },
    {
      "cell_type": "code",
      "metadata": {
        "colab": {
          "base_uri": "https://localhost:8080/"
        },
        "outputId": "868f6979-8bcc-40be-cbb3-dca045ea10e8",
        "id": "iOadImOz_J4z"
      },
      "source": [
        "#Median Test\n",
        "stat, p, med, tbl = stats.median_test(\n",
        "    df_airbnb[df_airbnb['neighbourhood_regroup'] == 'Manhattan']['log_price'],\n",
        "    df_airbnb[df_airbnb['neighbourhood_regroup'] == 'Brooklyn']['log_price'],\n",
        "    df_airbnb[df_airbnb['neighbourhood_regroup'] == 'QBS']['log_price']\n",
        "    )\n",
        "print(\"The Median test statistic is {:.2} with a p-value of {:.5}.\".\n",
        "      format(stat, p))"
      ],
      "execution_count": null,
      "outputs": [
        {
          "output_type": "stream",
          "name": "stdout",
          "text": [
            "The Median test statistic is 4.9e+03 with a p-value of 0.0.\n"
          ]
        }
      ]
    },
    {
      "cell_type": "markdown",
      "source": [
        "We reject the null hypothesis that the three group medians come from populations with an equal median (log) price.\n"
      ],
      "metadata": {
        "id": "HO5e9BjdAcb2"
      }
    },
    {
      "cell_type": "markdown",
      "source": [
        "We confirmed our intuition with the two non-parametric tests; the prices for rentals in the three neighbourhood groups are significantly different."
      ],
      "metadata": {
        "id": "ngbl-ri2As6j"
      }
    },
    {
      "cell_type": "markdown",
      "source": [
        "#### Summary"
      ],
      "metadata": {
        "id": "fW9mgr1GFJsd"
      }
    },
    {
      "cell_type": "markdown",
      "source": [
        "Our findings for the comparisons of neighbourhood groups are as follows: \n",
        "\n",
        "- F-Test: At least one group significantly different\n",
        "- Tukey Pairwise Comparsion: All groups are significantly different\n",
        "- KW Test: Samples are significantly different\n",
        "- Median Test: Medians are significantly different \n",
        "\n",
        "The results make intuitive sense because, recall, the distributions for the three neighbourhood groups visually look different in the histogram below."
      ],
      "metadata": {
        "id": "EpwsnvZxFOa1"
      }
    },
    {
      "cell_type": "code",
      "source": [
        "#histogram by neighbourhood group\n",
        "sns.histplot(data=df_airbnb, x='log_price', hue='neighbourhood_regroup', \n",
        "             alpha=.5, bins=30, kde=True)\n",
        "plt.title('Histogram by Neighbourhood Group')\n",
        "plt.show()"
      ],
      "metadata": {
        "colab": {
          "base_uri": "https://localhost:8080/"
        },
        "id": "duoURMDBF3Xf",
        "outputId": "339549e4-11b3-47d7-8fe2-b67c02e95bfd"
      },
      "execution_count": null,
      "outputs": [
        {
          "output_type": "display_data",
          "data": {
            "text/plain": [
              "<Figure size 432x288 with 1 Axes>"
            ],
            "image/png": "[encoded data removed]"
          },
          "metadata": {
            "needs_background": "light"
          }
        }
      ]
    },
    {
      "cell_type": "markdown",
      "source": [
        "### Research Question 3: Comparison of Neighbourhood Groups and Room Type *Combinations*"
      ],
      "metadata": {
        "id": "RLDVeTLpBGAq"
      }
    },
    {
      "cell_type": "markdown",
      "source": [
        "#### Introduction"
      ],
      "metadata": {
        "id": "wwobRDvkwFRR"
      }
    },
    {
      "cell_type": "markdown",
      "metadata": {
        "id": "zr4NmZqUQImT"
      },
      "source": [
        "So far, we have discovered that average rental Airbnb prices are significantly different for:\n",
        "*   Different room types\n",
        "*   Different neighbourhood groups\n",
        "\n",
        "Let's continue with a cross-comparison for different room types and neighbourhood combinations."
      ]
    },
    {
      "cell_type": "code",
      "metadata": {
        "id": "ynAEMcfVZznR",
        "colab": {
          "base_uri": "https://localhost:8080/"
        },
        "outputId": "1c57d6d9-99f9-4f68-d3ef-ed7f74f74483"
      },
      "source": [
        "#boxplot for neighbourhood groups and room types\n",
        "plt.figure(figsize=(10,5))\n",
        "sns.boxplot(data=df_airbnb, y='room_type', x=\"log_price\", \n",
        "                 hue='neighbourhood_regroup', \n",
        "                 hue_order = ['Manhattan', 'Brooklyn', 'QBS'], \n",
        "                 order = ['Private room', \"Entire home/apt\", \"Shared room\"], \n",
        "                 orient='h')\n",
        "plt.legend(bbox_to_anchor=(1.05, 1), loc=2, borderaxespad=0.)\n",
        "plt.show()"
      ],
      "execution_count": null,
      "outputs": [
        {
          "output_type": "display_data",
          "data": {
            "text/plain": [
              "<Figure size 720x360 with 1 Axes>"
            ],
            "image/png": "[encoded data removed]"
          },
          "metadata": {
            "needs_background": "light"
          }
        }
      ]
    },
    {
      "cell_type": "code",
      "source": [
        "#mean log price by neighbourhood and room type\n",
        "print('Average log price \\n', \n",
        "      round(\n",
        "          df_airbnb.groupby(\n",
        "              ['room_type', 'neighbourhood_regroup']\n",
        "              )['log_price'].mean(),3)\n",
        "      )"
      ],
      "metadata": {
        "colab": {
          "base_uri": "https://localhost:8080/"
        },
        "id": "EWbwl5mP-jVq",
        "outputId": "74a72818-1867-4044-ed3d-9b831d7dd5d2"
      },
      "execution_count": null,
      "outputs": [
        {
          "output_type": "stream",
          "name": "stdout",
          "text": [
            "Average log price \n",
            " room_type        neighbourhood_regroup\n",
            "Entire home/apt  Brooklyn                 2.172\n",
            "                 Manhattan                2.297\n",
            "                 QBS                      2.088\n",
            "Private room     Brooklyn                 1.817\n",
            "                 Manhattan                1.969\n",
            "                 QBS                      1.779\n",
            "Shared room      Brooklyn                 1.615\n",
            "                 Manhattan                1.849\n",
            "                 QBS                      1.635\n",
            "Name: log_price, dtype: float64\n"
          ]
        }
      ]
    },
    {
      "cell_type": "code",
      "source": [
        "#create new column for combination of neighbourhood groups and room types\n",
        "df_airbnb['neighbourhood_roomtype'] = df_airbnb[\"neighbourhood_regroup\"] \\\n",
        "                                        + \"/\" + df_airbnb[\"room_type\"]"
      ],
      "metadata": {
        "id": "gxpyUuJKB2W2"
      },
      "execution_count": null,
      "outputs": []
    },
    {
      "cell_type": "code",
      "source": [
        "print('neighbourhood_groups/room type combinations:')\n",
        "print(df_airbnb['neighbourhood_roomtype'].unique(),'\\n')\n",
        "print('counts:')\n",
        "print(df_airbnb.groupby('neighbourhood_roomtype').size())"
      ],
      "metadata": {
        "colab": {
          "base_uri": "https://localhost:8080/"
        },
        "id": "UnYaZDtJfu06",
        "outputId": "b7ac439a-d021-4cd5-e7c0-0a1c170cfd86"
      },
      "execution_count": null,
      "outputs": [
        {
          "output_type": "stream",
          "name": "stdout",
          "text": [
            "neighbourhood_groups/room type combinations:\n",
            "['Brooklyn/Private room' 'Manhattan/Entire home/apt'\n",
            " 'Manhattan/Private room' 'Brooklyn/Entire home/apt'\n",
            " 'Manhattan/Shared room' 'QBS/Private room' 'QBS/Entire home/apt'\n",
            " 'QBS/Shared room' 'Brooklyn/Shared room'] \n",
            "\n",
            "counts:\n",
            "neighbourhood_roomtype\n",
            "Brooklyn/Entire home/apt      9540\n",
            "Brooklyn/Private room        10119\n",
            "Brooklyn/Shared room           411\n",
            "Manhattan/Entire home/apt    13125\n",
            "Manhattan/Private room        7970\n",
            "Manhattan/Shared room          480\n",
            "QBS/Entire home/apt           2647\n",
            "QBS/Private room              4208\n",
            "QBS/Shared room                267\n",
            "dtype: int64\n"
          ]
        }
      ]
    },
    {
      "cell_type": "markdown",
      "source": [
        "#### Testing"
      ],
      "metadata": {
        "id": "BNjK9jUBwH9m"
      }
    },
    {
      "cell_type": "markdown",
      "source": [
        "To compare each room type and neighbourhood combination, I will use the Tukey Pairwise Comparison to control for Type I error. "
      ],
      "metadata": {
        "id": "4OMlhVy5vqTn"
      }
    },
    {
      "cell_type": "code",
      "metadata": {
        "id": "UGAFtusZSJ_W"
      },
      "source": [
        "tukey2 = pairwise_tukeyhsd(\n",
        "    endog=df_airbnb['log_price'],                 # Data\n",
        "    groups = df_airbnb['neighbourhood_roomtype'], # Groups\n",
        "    alpha = 0.05)                                  #Significance level"
      ],
      "execution_count": null,
      "outputs": []
    },
    {
      "cell_type": "code",
      "metadata": {
        "id": "Id2DDof8TD4x",
        "colab": {
          "base_uri": "https://localhost:8080/"
        },
        "outputId": "db88673b-9c72-4a65-9ee4-20f799fb0a4e"
      },
      "source": [
        "print(tukey2)"
      ],
      "execution_count": null,
      "outputs": [
        {
          "output_type": "stream",
          "name": "stdout",
          "text": [
            "                   Multiple Comparison of Means - Tukey HSD, FWER=0.05                    \n",
            "==========================================================================================\n",
            "          group1                    group2          meandiff p-adj   lower   upper  reject\n",
            "------------------------------------------------------------------------------------------\n",
            " Brooklyn/Entire home/apt     Brooklyn/Private room  -0.3552  0.001 -0.3646 -0.3457   True\n",
            " Brooklyn/Entire home/apt      Brooklyn/Shared room  -0.5565  0.001   -0.59  -0.523   True\n",
            " Brooklyn/Entire home/apt Manhattan/Entire home/apt   0.1252  0.001  0.1163  0.1342   True\n",
            " Brooklyn/Entire home/apt    Manhattan/Private room  -0.2023  0.001 -0.2124 -0.1922   True\n",
            " Brooklyn/Entire home/apt     Manhattan/Shared room  -0.3226  0.001 -0.3537 -0.2915   True\n",
            " Brooklyn/Entire home/apt       QBS/Entire home/apt  -0.0839  0.001 -0.0985 -0.0693   True\n",
            " Brooklyn/Entire home/apt          QBS/Private room  -0.3927  0.001  -0.405 -0.3804   True\n",
            " Brooklyn/Entire home/apt           QBS/Shared room  -0.5372  0.001 -0.5784 -0.4959   True\n",
            "    Brooklyn/Private room      Brooklyn/Shared room  -0.2013  0.001 -0.2348 -0.1678   True\n",
            "    Brooklyn/Private room Manhattan/Entire home/apt   0.4804  0.001  0.4716  0.4892   True\n",
            "    Brooklyn/Private room    Manhattan/Private room   0.1529  0.001  0.1429  0.1628   True\n",
            "    Brooklyn/Private room     Manhattan/Shared room   0.0326 0.0315  0.0015  0.0636   True\n",
            "    Brooklyn/Private room       QBS/Entire home/apt   0.2712  0.001  0.2567  0.2858   True\n",
            "    Brooklyn/Private room          QBS/Private room  -0.0375  0.001 -0.0497 -0.0253   True\n",
            "    Brooklyn/Private room           QBS/Shared room   -0.182  0.001 -0.2232 -0.1408   True\n",
            "     Brooklyn/Shared room Manhattan/Entire home/apt   0.6817  0.001  0.6484   0.715   True\n",
            "     Brooklyn/Shared room    Manhattan/Private room   0.3542  0.001  0.3205  0.3878   True\n",
            "     Brooklyn/Shared room     Manhattan/Shared room   0.2339  0.001  0.1892  0.2786   True\n",
            "     Brooklyn/Shared room       QBS/Entire home/apt   0.4725  0.001  0.4373  0.5078   True\n",
            "     Brooklyn/Shared room          QBS/Private room   0.1638  0.001  0.1294  0.1981   True\n",
            "     Brooklyn/Shared room           QBS/Shared room   0.0193    0.9  -0.033  0.0716  False\n",
            "Manhattan/Entire home/apt    Manhattan/Private room  -0.3275  0.001  -0.337 -0.3181   True\n",
            "Manhattan/Entire home/apt     Manhattan/Shared room  -0.4478  0.001 -0.4787 -0.4169   True\n",
            "Manhattan/Entire home/apt       QBS/Entire home/apt  -0.2092  0.001 -0.2233  -0.195   True\n",
            "Manhattan/Entire home/apt          QBS/Private room  -0.5179  0.001 -0.5297 -0.5061   True\n",
            "Manhattan/Entire home/apt           QBS/Shared room  -0.6624  0.001 -0.7035 -0.6213   True\n",
            "   Manhattan/Private room     Manhattan/Shared room  -0.1203  0.001 -0.1515  -0.089   True\n",
            "   Manhattan/Private room       QBS/Entire home/apt   0.1184  0.001  0.1034  0.1333   True\n",
            "   Manhattan/Private room          QBS/Private room  -0.1904  0.001 -0.2031 -0.1777   True\n",
            "   Manhattan/Private room           QBS/Shared room  -0.3349  0.001 -0.3763 -0.2935   True\n",
            "    Manhattan/Shared room       QBS/Entire home/apt   0.2387  0.001  0.2057  0.2716   True\n",
            "    Manhattan/Shared room          QBS/Private room  -0.0701  0.001 -0.1022 -0.0381   True\n",
            "    Manhattan/Shared room           QBS/Shared room  -0.2146  0.001 -0.2654 -0.1638   True\n",
            "      QBS/Entire home/apt          QBS/Private room  -0.3088  0.001 -0.3253 -0.2923   True\n",
            "      QBS/Entire home/apt           QBS/Shared room  -0.4532  0.001 -0.4959 -0.4105   True\n",
            "         QBS/Private room           QBS/Shared room  -0.1445  0.001 -0.1864 -0.1025   True\n",
            "------------------------------------------------------------------------------------------\n"
          ]
        }
      ]
    },
    {
      "cell_type": "markdown",
      "source": [
        "- All pairwise comparisons reject the null hypothesis, except for Shared rooms in Brooklyn vs. QBS."
      ],
      "metadata": {
        "id": "v91wJ0Ufg5SH"
      }
    },
    {
      "cell_type": "markdown",
      "source": [
        "#### Example Comparisons"
      ],
      "metadata": {
        "id": "KjPhAQPAwNng"
      }
    },
    {
      "cell_type": "markdown",
      "source": [
        "##### Shared rooms in Brooklyn vs. QBS"
      ],
      "metadata": {
        "id": "DTPw5-DGwS7h"
      }
    },
    {
      "cell_type": "markdown",
      "source": [
        "Consider the comparison that did not reject the null; shared rooms in Brooklyn and QBS."
      ],
      "metadata": {
        "id": "fA3EJUPYhTX8"
      }
    },
    {
      "cell_type": "code",
      "source": [
        "#histogram by shared room for Brooklyn and QBS \n",
        "sns.histplot(data=df_airbnb, x='log_price', hue='neighbourhood_roomtype',\n",
        "             hue_order = ['Brooklyn/Shared room', 'QBS/Shared room'],\n",
        "             alpha=.5, bins=30, kde=True)\n",
        "plt.title('Histogram Shared rooms in Brooklyn and QBS')\n",
        "plt.show()"
      ],
      "metadata": {
        "colab": {
          "base_uri": "https://localhost:8080/",
          "height": 296
        },
        "id": "Zf51nStRdtgr",
        "outputId": "a1f211bd-a541-490a-8298-cc6ad1a6d6a4"
      },
      "execution_count": null,
      "outputs": [
        {
          "output_type": "display_data",
          "data": {
            "text/plain": [
              "<Figure size 432x288 with 1 Axes>"
            ],
            "image/png": "[encoded data removed]"
          },
          "metadata": {
            "needs_background": "light"
          }
        }
      ]
    },
    {
      "cell_type": "markdown",
      "metadata": {
        "id": "tROwzU82Uk8O"
      },
      "source": [
        "- There is no significant difference in the average Airbnb rental price for a shared room in Brooklyn or QBS. \n",
        "\n",
        "These results could be helpful in the scenario that a traveler was flexible on location and had a small budget. They could quickly know that there isn't a significant difference in (log) prices outside of Manhattan for shared rooms. These results could help a traveler make a more informed decision quickly."
      ]
    },
    {
      "cell_type": "markdown",
      "source": [
        "##### Private Brooklyn room vs. Shared Manhattan room"
      ],
      "metadata": {
        "id": "q2NyEJN7wz4s"
      }
    },
    {
      "cell_type": "markdown",
      "metadata": {
        "id": "UpNbEHVhylkB"
      },
      "source": [
        "From the Tukey pair-wise comparison, there was a significant difference in the mean log transformation of prices for a private room in Brooklyn and a shared room in Manhattan. However, it was rejected with the largest `pvalue`.  \n",
        "\n",
        "Let's suppose a traveler is on a budget but is not sure whether they would prefer more privacy or better proximity to the heart of the city. They may be deciding between a shared room in Manhattan or a private room in Brooklyn."
      ]
    },
    {
      "cell_type": "code",
      "source": [
        "#histogram for Manhattan/Shared room and  Brooklyn/Private room\n",
        "#mean for Manhattan/shared room\n",
        "sns.histplot(data=df_airbnb, x='log_price', hue='neighbourhood_roomtype',\n",
        "             hue_order = ['Manhattan/Shared room', 'Brooklyn/Private room'],\n",
        "             alpha=.5, bins=30, kde=True)\n",
        "plt.title('Histogram Manhattan/Shared room vs Brooklyn/Private room')\n",
        "plt.show()"
      ],
      "metadata": {
        "colab": {
          "base_uri": "https://localhost:8080/",
          "height": 296
        },
        "id": "n2N_BKUei0wL",
        "outputId": "083454e0-9537-48c8-8e0d-00142b7d1c0c"
      },
      "execution_count": null,
      "outputs": [
        {
          "output_type": "display_data",
          "data": {
            "text/plain": [
              "<Figure size 432x288 with 1 Axes>"
            ],
            "image/png": "[encoded data removed]"
          },
          "metadata": {
            "needs_background": "light"
          }
        }
      ]
    },
    {
      "cell_type": "markdown",
      "source": [
        "Note that the sample size for \"Brooklyn/Private room\" is substantially smaller than the sample size for Manhattan. In this case, a t-test is still valid, but if the sample sizes are uneven, unequal variances can greatly influence the Type 1 error rate of the t-test. "
      ],
      "metadata": {
        "id": "tKPikw6blVfQ"
      }
    },
    {
      "cell_type": "markdown",
      "source": [
        "Define:\n",
        "- Group 1: Brooklyn/Private room \n",
        "- Group 2: Manhattan/Shared room"
      ],
      "metadata": {
        "id": "1q771QvTmkqZ"
      }
    },
    {
      "cell_type": "code",
      "metadata": {
        "id": "uXrxlcnXyJ9g",
        "colab": {
          "base_uri": "https://localhost:8080/"
        },
        "outputId": "6f710892-8070-4b0f-aff1-56c12c78f0a5"
      },
      "source": [
        "ci = get_ci(df_airbnb[df_airbnb['neighbourhood_roomtype'] == \n",
        "              'Brooklyn/Private room']['log_price'], \n",
        "            df_airbnb[df_airbnb['neighbourhood_roomtype'] == \n",
        "              'Manhattan/Shared room']['log_price'], 95)\n",
        "print(ci)"
      ],
      "execution_count": null,
      "outputs": [
        {
          "output_type": "stream",
          "name": "stdout",
          "text": [
            "\n",
            "        The difference in means for the log transformed data at the 95% \n",
            "        confidence interval is between 0.015 and 0.050. \n",
            " \n",
            "\n",
            "        The geometric mean price of Group 1 is 1.078 times as much as \n",
            "        Group 2 (95% CI: 1.035 to 1.122 times as much). \n",
            "\n",
            "        \n"
          ]
        }
      ]
    },
    {
      "cell_type": "markdown",
      "metadata": {
        "id": "7X6Eqagw6btQ"
      },
      "source": [
        "With the confidence interval, we can provide more information for the traveler about *how much* more they would expect to pay for privacy, but being farther away from Manhattan."
      ]
    },
    {
      "cell_type": "markdown",
      "source": [
        "#### Confidence Intervals for each pairwise comparison"
      ],
      "metadata": {
        "id": "Zt9w5l1Cx8w0"
      }
    },
    {
      "cell_type": "markdown",
      "source": [
        "Next, we will calculate the confidence interval for each room type/neighbourhood comparison.\n",
        "\n",
        "With these confidence intervals, a traveler could use this information to know how much more expensive one group could be than the other on average. They could then weigh the pros and cons of their needs for privacy and need for proximity to the city, considering their budget. "
      ],
      "metadata": {
        "id": "OoPNPNktyQV0"
      }
    },
    {
      "cell_type": "code",
      "source": [
        "#function to calculating (ci_perc)% CI for a difference between two means\n",
        "#transformed back into ratio of geometric means\n",
        "#simplifed output\n",
        "#ci_perc: (0,100), typically 90 or 95\n",
        "\n",
        "def simple_get_ci(array_1, array_2, ci_perc):\n",
        "    n1 = array_1.shape[0] #sample size array_1\n",
        "    n2 = array_2.shape[0] #sample size array_2\n",
        "\n",
        "    mu1 = array_1.mean() \n",
        "    mu2 = array_2.mean() \n",
        "\n",
        "    var1 = array_1.var() \n",
        "    var2 = array_2.var() \n",
        "    \n",
        "    mu_diff = mu2 - mu1 \n",
        "    \n",
        "    #pooled estimate of the common standard deviation \n",
        "    std_pooled = math.sqrt((((n1 - 1)*var1) + ((n2 - 1)*var2)) / (n1 + n2 - 2))\n",
        "\n",
        "    alpha = 1 - (ci_perc/100) #significance level\n",
        "    df = n1 + n2 - 2 #degrees of freedom\n",
        "    t_crit = stats.t.ppf((1 - (alpha/2)), df)\n",
        "    \n",
        "    margin_err = t_crit*std_pooled*math.sqrt(n1**-1 + n2**-1)\n",
        "\n",
        "    ci_lower = mu_diff - margin_err\n",
        "    ci_upper = mu_diff + margin_err\n",
        "\n",
        "    ratio_lower = 10**ci_lower\n",
        "    ratio_upper = 10**ci_upper\n",
        "    ratio_mudiff = 10**mu_diff\n",
        "    \n",
        "    return(\"{:.0f} ({:.3f}, {:.3f})\".format(\n",
        "            ci_perc, ratio_lower, ratio_upper))"
      ],
      "metadata": {
        "id": "RW_saNrepQqC"
      },
      "execution_count": null,
      "outputs": []
    },
    {
      "cell_type": "code",
      "metadata": {
        "id": "OD99OR6P20oL",
        "colab": {
          "base_uri": "https://localhost:8080/"
        },
        "outputId": "d1177824-dc27-4594-8e59-0aae3b6c8c51"
      },
      "source": [
        "#9 total combinations; 3 room types and 3 neighbourhood groups\n",
        "groups = df_airbnb['neighbourhood_roomtype'].unique()\n",
        "print(groups)"
      ],
      "execution_count": null,
      "outputs": [
        {
          "output_type": "stream",
          "name": "stdout",
          "text": [
            "['Brooklyn/Private room' 'Manhattan/Entire home/apt'\n",
            " 'Manhattan/Private room' 'Brooklyn/Entire home/apt'\n",
            " 'Manhattan/Shared room' 'QBS/Private room' 'QBS/Entire home/apt'\n",
            " 'QBS/Shared room' 'Brooklyn/Shared room']\n"
          ]
        }
      ]
    },
    {
      "cell_type": "code",
      "metadata": {
        "id": "rG1elroZDaR6",
        "colab": {
          "base_uri": "https://localhost:8080/"
        },
        "outputId": "2b31b291-5711-4b72-d826-86207d3fdf46"
      },
      "source": [
        "#get combinations of pairwise comparison for 9 groups\n",
        "#36 combinations total\n",
        "combo_groups = list(combinations(groups,2))\n",
        "\n",
        "#example\n",
        "print(combo_groups[0][0])\n",
        "print(combo_groups[0][1])"
      ],
      "execution_count": null,
      "outputs": [
        {
          "output_type": "stream",
          "name": "stdout",
          "text": [
            "Brooklyn/Private room\n",
            "Manhattan/Entire home/apt\n"
          ]
        }
      ]
    },
    {
      "cell_type": "code",
      "metadata": {
        "id": "WK8jNTslEZ7z"
      },
      "source": [
        "#example: Get CI for Brooklyn/Private Room vs Manhattan/Entire home\n",
        "group1 = df_airbnb[df_airbnb[\"neighbourhood_roomtype\"] == \n",
        "                   combo_groups[0][0]]['log_price']\n",
        "group2 = df_airbnb[df_airbnb[\"neighbourhood_roomtype\"] == \n",
        "                   combo_groups[0][1]]['log_price']"
      ],
      "execution_count": null,
      "outputs": []
    },
    {
      "cell_type": "code",
      "metadata": {
        "id": "n8JK73ZrGMjO",
        "colab": {
          "base_uri": "https://localhost:8080/"
        },
        "outputId": "79ad0e03-3c4c-4846-b922-a5c9562066b0"
      },
      "source": [
        "ci = simple_get_ci(group1, group2, 95)\n",
        "print(\"{}: {}, {}\".format(ci, combo_groups[0][0], combo_groups[0][1]))"
      ],
      "execution_count": null,
      "outputs": [
        {
          "output_type": "stream",
          "name": "stdout",
          "text": [
            "95 (2.985, 3.061): Brooklyn/Private room, Manhattan/Entire home/apt\n"
          ]
        }
      ]
    },
    {
      "cell_type": "code",
      "metadata": {
        "id": "ar6xsPMwHY38",
        "colab": {
          "base_uri": "https://localhost:8080/"
        },
        "outputId": "7906440c-558c-4100-8744-00f3d2ff066f"
      },
      "source": [
        "#get CI for all combination of groups\n",
        "ci_list = [] #initialize\n",
        "\n",
        "for i in range(len(combo_groups)):\n",
        "    #print(\"This is i: {}\".format(i))\n",
        "    group1 = df_airbnb[df_airbnb[\"neighbourhood_roomtype\"] == combo_groups[i][0]]['log_price']\n",
        "    group2 = df_airbnb[df_airbnb[\"neighbourhood_roomtype\"] == combo_groups[i][1]]['log_price']\n",
        "    #print(\"These are the groups: {} {}\".format(combo_groups[i][0], combo_groups[i][1]))\n",
        "    ci_list.append(simple_get_ci(group1, group2, 95))\n",
        "\n",
        "#print confidence interval along with group names\n",
        "ci_list_with_groups = \"\\n\".join(\"{} {}\"\n",
        "                                .format(x,y) for x, y in zip(\n",
        "                                    ci_list, combo_groups))\n",
        "print(ci_list_with_groups)"
      ],
      "execution_count": null,
      "outputs": [
        {
          "output_type": "stream",
          "name": "stdout",
          "text": [
            "95 (2.985, 3.061) ('Brooklyn/Private room', 'Manhattan/Entire home/apt')\n",
            "95 (1.402, 1.442) ('Brooklyn/Private room', 'Manhattan/Private room')\n",
            "95 (2.236, 2.295) ('Brooklyn/Private room', 'Brooklyn/Entire home/apt')\n",
            "95 (1.035, 1.122) ('Brooklyn/Private room', 'Manhattan/Shared room')\n",
            "95 (0.903, 0.932) ('Brooklyn/Private room', 'QBS/Private room')\n",
            "95 (1.832, 1.904) ('Brooklyn/Private room', 'QBS/Entire home/apt')\n",
            "95 (0.623, 0.694) ('Brooklyn/Private room', 'QBS/Shared room')\n",
            "95 (0.602, 0.657) ('Brooklyn/Private room', 'Brooklyn/Shared room')\n",
            "95 (0.464, 0.477) ('Manhattan/Entire home/apt', 'Manhattan/Private room')\n",
            "95 (0.739, 0.760) ('Manhattan/Entire home/apt', 'Brooklyn/Entire home/apt')\n",
            "95 (0.340, 0.374) ('Manhattan/Entire home/apt', 'Manhattan/Shared room')\n",
            "95 (0.298, 0.309) ('Manhattan/Entire home/apt', 'QBS/Private room')\n",
            "95 (0.605, 0.631) ('Manhattan/Entire home/apt', 'QBS/Entire home/apt')\n",
            "95 (0.204, 0.232) ('Manhattan/Entire home/apt', 'QBS/Shared room')\n",
            "95 (0.198, 0.219) ('Manhattan/Entire home/apt', 'Brooklyn/Shared room')\n",
            "95 (1.569, 1.618) ('Manhattan/Private room', 'Brooklyn/Entire home/apt')\n",
            "95 (0.722, 0.796) ('Manhattan/Private room', 'Manhattan/Shared room')\n",
            "95 (0.633, 0.657) ('Manhattan/Private room', 'QBS/Private room')\n",
            "95 (1.283, 1.344) ('Manhattan/Private room', 'QBS/Entire home/apt')\n",
            "95 (0.433, 0.494) ('Manhattan/Private room', 'QBS/Shared room')\n",
            "95 (0.420, 0.466) ('Manhattan/Private room', 'Brooklyn/Shared room')\n",
            "95 (0.454, 0.498) ('Brooklyn/Entire home/apt', 'Manhattan/Shared room')\n",
            "95 (0.398, 0.412) ('Brooklyn/Entire home/apt', 'QBS/Private room')\n",
            "95 (0.807, 0.842) ('Brooklyn/Entire home/apt', 'QBS/Entire home/apt')\n",
            "95 (0.273, 0.309) ('Brooklyn/Entire home/apt', 'QBS/Shared room')\n",
            "95 (0.264, 0.292) ('Brooklyn/Entire home/apt', 'Brooklyn/Shared room')\n",
            "95 (0.816, 0.888) ('Manhattan/Shared room', 'QBS/Private room')\n",
            "95 (1.647, 1.823) ('Manhattan/Shared room', 'QBS/Entire home/apt')\n",
            "95 (0.556, 0.670) ('Manhattan/Shared room', 'QBS/Shared room')\n",
            "95 (0.541, 0.630) ('Manhattan/Shared room', 'Brooklyn/Shared room')\n",
            "95 (1.991, 2.082) ('QBS/Private room', 'QBS/Entire home/apt')\n",
            "95 (0.679, 0.757) ('QBS/Private room', 'QBS/Shared room')\n",
            "95 (0.656, 0.717) ('QBS/Private room', 'Brooklyn/Shared room')\n",
            "95 (0.330, 0.376) ('QBS/Entire home/apt', 'QBS/Shared room')\n",
            "95 (0.319, 0.355) ('QBS/Entire home/apt', 'Brooklyn/Shared room')\n",
            "95 (0.872, 1.049) ('QBS/Shared room', 'Brooklyn/Shared room')\n"
          ]
        }
      ]
    },
    {
      "cell_type": "markdown",
      "source": [
        "# Future Considerations"
      ],
      "metadata": {
        "id": "bFHLY7S2EQkl"
      }
    },
    {
      "cell_type": "markdown",
      "metadata": {
        "id": "KFs4EhJ6bREC"
      },
      "source": [
        "In the future, I would like to explore:\n",
        "-  Different cities\n",
        "-  More current data\n",
        "\n",
        "Ideally, it would be nice to explore not only room type but also have data on the size, perhaps in square feet, or each rental.\n",
        "\n",
        "Given more time, it would be interesting to look into column `minimum_nights` to explore the effect of long-term vs. short-term rentals on the rental price."
      ]
    }
  ]
}